{
 "cells": [
  {
   "cell_type": "markdown",
   "metadata": {},
   "source": [
    "# Creative Software Programming Assignment#1 (week-11)\n",
    "\n",
    "Every assignment will be announced on **Thursday** and should be sumitted by next **Thursday**.\n",
    "\n",
    "In this week **Handed out will be Nov 12, 2020, Due Nov 19, 2020**"
   ]
  },
  {
   "cell_type": "markdown",
   "metadata": {},
   "source": [
    "- College classes have a name (std::string).\n",
    "- Building class has name (std::string), id (size_t), college (College&), and number of rooms (size_t).\n",
    "    - People can enter the building. The admission follows the following rules.\n",
    "        - There can only be one Employee per building.\n",
    "        - There can be only one Professor in each room. If the number of rooms is 4, professors can enter up to 4 people.\n",
    "        - Students can only enter the college building to which they belong.\n",
    "        - People enter a random room when entering.\n",
    "    - People can leave the building.\n",
    "    \n",
    "- There are three types of user classes: Student, Professor, and Employee.\n",
    "    - User class is initialized with name (std::string), id (size_t), and college (College&).\n",
    "        - Professor can call attendance. The id of all students in the professor's room are printed.\n",
    "        - Employee can clean the building. Everyone except employee self must leave the building.\n",
    "\n",
    "\n",
    "The input is:\n",
    "\n",
    "- The number of colleges $N$ is given on the first line.\n",
    "- College names are given from next $N$ lines.\n",
    "- The next line is given the number of buildings $B$.\n",
    "- Buildings are given next $B$ lines in the form of `bulding_name building_id college_name number_of_rooms`.\n",
    "- The number of people $U$ is given on the next line.\n",
    "- The next $U$ lines, users are given in the form of `{student|professor|employee} user_name user_id college_name`.\n",
    "- The command number $C$ is given on the next line. The commands are as follows:\n",
    "    - `enter user_ID building_ID`\n",
    "        - print room number (starts with 1), if not enter then print 0\n",
    "    - `exit user_ID building_ID`\n",
    "    - `total building_ID`\n",
    "        - print size_t\n",
    "    - `clean user_ID`\n",
    "    - `attendance user_ID`\n",
    "        - print student's id\n",
    "    - `where user_ID` \n",
    "        - Displays the building_name where the user with user_ID currently exists. If not, output 0.\n",
    "    - `all building_ID`\n",
    "        - Prints the name of all users in the building.\n",
    "\n",
    "\n",
    "The following errors are handled as follows.\n",
    "\n",
    "- \"Name duplicated error\" when a college of the same name is established\n",
    "- \"Id duplicated error\" when a building with the same ID is established or a user with the same ID is created\n",
    "- \"College not exist error\" when a building or user of a college without a name is created\n",
    "- \"Not enter error\" if the user is unable to enter the building for any reason\n",
    "- \"No students error\" if the professor is not in the room or there are no students to attend\n",
    "- \"Nothing to clean error\" when an employee is performing cleaning while not in the building\n",
    "- \"Permission error\" in case of user behavior that does not match the permission\n",
    "\n",
    "\n",
    "\n",
    "**Issues**\n",
    "\n",
    "- All output is line by line. When calling attendance, each student id must be printed, one per line.\n",
    "- You can create new functions, but you cannot declare additional member variables in class\n",
    "- In the main function, do not create containers other than `colleges`, `buildings`, and `users`.\n",
    "- Selecting arbitrary elements in a container can be done using `util::select_randomly` in utility.h.\n",
    "\n",
    "```\n",
    "std::vector<User*> v;\n",
    "...\n",
    "User* random_user = util::select_randomly(v.begin(), v.end());\n",
    "```"
   ]
  },
  {
   "cell_type": "code",
   "execution_count": null,
   "metadata": {},
   "outputs": [],
   "source": []
  }
 ],
 "metadata": {
  "kernelspec": {
   "display_name": "C++17",
   "language": "C++17",
   "name": "xcpp17"
  },
  "language_info": {
   "codemirror_mode": "text/x-c++src",
   "file_extension": ".cpp",
   "mimetype": "text/x-c++src",
   "name": "c++",
   "version": "-std=c++17"
  }
 },
 "nbformat": 4,
 "nbformat_minor": 4
}
