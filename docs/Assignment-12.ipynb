{
 "cells": [
  {
   "cell_type": "markdown",
   "metadata": {},
   "source": [
    "# Creative Software Programming Assignment#12 (week-12)\n",
    "\n",
    "Every assignment will be announced on **Thursday** and should be sumitted by next **Thursday**.\n",
    "\n",
    "In this week **Handed out will be Nov 20, 2020, Due Nov 26, 2020**"
   ]
  },
  {
   "cell_type": "markdown",
   "metadata": {},
   "source": [
    "- week-12\n",
    "    - vector.h\n",
    "    - main.cc (is optional, for your own debug)\n",
    "    - report.pdf (or something readable format)\n",
    "        - Describe what considerations you have made while implementing the code and why."
   ]
  },
  {
   "cell_type": "markdown",
   "metadata": {},
   "source": [
    "This assignment is to implement vector without `std::vector`.\n",
    "\n",
    "You must implement below method and operators similar to `std::vector`.\n",
    "It doesn't matter how different the actual vector container works. The methods just need to work.\n",
    "\n",
    "- capacity\n",
    "- size\n",
    "- empty\n",
    "- clear\n",
    "- insert\n",
    "- erase\n",
    "- push_back\n",
    "- pop_back\n",
    "- resize\n",
    "- operator[]\n",
    "\n",
    "And optional operator (you can search about ostream and istream)\n",
    "- operator <<\n",
    "    - stream out the element with comma(,)\n",
    "    - `friend ostream& operator<<(ostream& out, Vector<T>& vector);`\n",
    "- operator >>\n",
    "    - stream in push_back to Vector\n",
    "    - `friend istream& operator<<(istream& out, Vector<T>& vector);`\n",
    "\n",
    "\n",
    "Additionally, you get extra points by implementing a method like a real vector container. See also [cppreference page](https://en.cppreference.com/w/cpp/container/vector)\n",
    "\n",
    "- iterator\n",
    "- const_iterator\n",
    "- reverse_iterator\n",
    "- const_reverse_iterator\n",
    "- reference\n",
    "- const reference\n",
    "- opeerator=\n",
    "- assign\n",
    "- begin/end\n",
    "- cbegin/cend\n",
    "- rbegin/rend\n",
    "- crbegin/crend\n"
   ]
  },
  {
   "cell_type": "code",
   "execution_count": null,
   "metadata": {},
   "outputs": [],
   "source": [
    "// vector.h\n",
    "template <typename T>\n",
    "class Vector {\n",
    "private:\n",
    "    T* elements;\n",
    "\n",
    "public:\n",
    "    Vector()\n",
    "    : elements(nullptr) {}\n",
    "    ~Vector();\n",
    "}"
   ]
  },
  {
   "cell_type": "code",
   "execution_count": null,
   "metadata": {},
   "outputs": [],
   "source": []
  }
 ],
 "metadata": {
  "kernelspec": {
   "display_name": "C++17",
   "language": "C++17",
   "name": "xcpp17"
  },
  "language_info": {
   "codemirror_mode": "text/x-c++src",
   "file_extension": ".cpp",
   "mimetype": "text/x-c++src",
   "name": "c++",
   "version": "-std=c++17"
  }
 },
 "nbformat": 4,
 "nbformat_minor": 4
}
