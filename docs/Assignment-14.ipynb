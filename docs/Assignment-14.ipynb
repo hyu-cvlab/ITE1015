{
 "cells": [
  {
   "cell_type": "markdown",
   "metadata": {},
   "source": [
    "# Creative Software Programming Assignment#14 (week-14)\n",
    "\n",
    "This assignment:\n",
    "- **Handed out Dec 05, 2020**\n",
    "- **Due Dec 17, 2020**"
   ]
  },
  {
   "cell_type": "markdown",
   "metadata": {},
   "source": [
    "This assignment is to create a simple game named `2048`.\n",
    "\n",
    "Initially, two integers $H$ and $W$ are given. These are the height and width respectively. ($1 \\leq H, W \\leq 100$)\n",
    "\n",
    "If you can't move any more (any action looks the same as before), exit and print the score. The score is equal to the sum of all blocks currently stacked. (Print only one integer per line.)\n",
    "\n",
    "\n",
    "**The game proceeds as follows**:\n",
    "\n",
    "First, 2 is created in the top left corner.\n",
    "Next, according to the input (up/down/left/right), the blocks move up/down/left/right. (See examples below)\n",
    "After the block is moved as an input, a 2 is generated at a random location. (Use `Screen::create()`.)\n",
    "After random create, print the current blocks. (Use `Screen::draw()`)\n",
    "It repeats until the game is over.\n",
    "Or, if a key other than `W A S D` (up/down/left/right) is input, print the current score and the program ends.\n",
    "\n",
    "**Use the given skeleton code.**"
   ]
  },
  {
   "cell_type": "markdown",
   "metadata": {},
   "source": [
    "**Examples**\n",
    "\n",
    "*For easy understanding, 2 randomly generated removed after each action.*\n",
    "\n",
    "In case of \n",
    "```\n",
    "2,0,2,\n",
    "2,4,0,\n",
    "0,0,0,\n",
    "```\n",
    "\n",
    "after W inputed\n",
    "\n",
    "```\n",
    "4,4,2,\n",
    "0,0,0,\n",
    "0,0,0,\n",
    "```\n",
    "\n",
    "after D inputed\n",
    "\n",
    "```\n",
    "0,8,2,\n",
    "0,0,0,\n",
    "0,0,0,\n",
    "```"
   ]
  },
  {
   "cell_type": "code",
   "execution_count": null,
   "metadata": {},
   "outputs": [],
   "source": []
  }
 ],
 "metadata": {
  "kernelspec": {
   "display_name": "C++17",
   "language": "C++17",
   "name": "xcpp17"
  },
  "language_info": {
   "codemirror_mode": "text/x-c++src",
   "file_extension": ".cpp",
   "mimetype": "text/x-c++src",
   "name": "c++",
   "version": "-std=c++17"
  }
 },
 "nbformat": 4,
 "nbformat_minor": 4
}
