{
 "cells": [
  {
   "cell_type": "markdown",
   "metadata": {},
   "source": [
    "# Creative Software Programming Assignment#3 (week-3)\n",
    "\n",
    "Every assignment will be announced on **Thursday** and should be sumitted by next **Tuesday**.\n",
    "\n",
    "In this week **Handed out will be Sep 17, 2020, Due Sep 22, 2020**"
   ]
  },
  {
   "cell_type": "markdown",
   "metadata": {},
   "source": [
    "# 1. Contacts Manager\n",
    "\n",
    "We want to develop the address book we created last assignment(week-2, contacts).\n",
    "\n",
    "Refer to the given skeleton code and complete the program to work correctly.\n",
    "\n",
    "The assignment directory structure should be follow:\n",
    "\n",
    "- week-3\n",
    "    - contacts\n",
    "        - contacts.cc // Code you need to complete\n",
    "        - contacts.h  // Definition of contacts type\n",
    "        - student.h   // Definition of student type\n",
    "        - utility.h   // memory allocator\n",
    "\n",
    "You only need to edit the `contacts.cc` file.\n",
    "\n",
    "Find the commented `TODO:` flag in the code to complete the function.\n",
    "The code you implement should satisfy the following comment of each function.\n",
    "\n",
    "The function signature to be implemented is as follows."
   ]
  },
  {
   "cell_type": "code",
   "execution_count": null,
   "metadata": {},
   "outputs": [],
   "source": [
    "bool add(student_t student);\n",
    "bool add(int id, std::string name);\n",
    "bool add(int id, std::string name, std::string phone);\n",
    "bool add(int id, std::string name, std::string phone, std::string mail);\n",
    "\n",
    "bool remove(int id);\n",
    "\n",
    "bool update(int id, std::string name, std::string phone, std::string mail);\n",
    "\n",
    "student_t find(int id);\n",
    "\n",
    "size_t size();"
   ]
  },
  {
   "cell_type": "markdown",
   "metadata": {},
   "source": [
    "**Helps**\n",
    "\n",
    "You haven't learned it, but you might think that the variables you need to use are already declared. Think of the `students` and `m_size` variables defined globally anywhere in the function you need to implement.\n",
    "\n",
    "In remove operation, you can explicitly express that it has removed by marking the student id as an unusable value such as -1."
   ]
  },
  {
   "cell_type": "code",
   "execution_count": null,
   "metadata": {},
   "outputs": [],
   "source": []
  }
 ],
 "metadata": {
  "kernelspec": {
   "display_name": "Python 3",
   "language": "python",
   "name": "python3"
  },
  "language_info": {
   "codemirror_mode": {
    "name": "ipython",
    "version": 3
   },
   "file_extension": ".py",
   "mimetype": "text/x-python",
   "name": "python",
   "nbconvert_exporter": "python",
   "pygments_lexer": "ipython3",
   "version": "3.7.7"
  }
 },
 "nbformat": 4,
 "nbformat_minor": 4
}
