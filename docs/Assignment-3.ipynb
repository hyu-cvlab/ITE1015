{
 "cells": [
  {
   "cell_type": "markdown",
   "metadata": {},
   "source": [
    "# Creative Software Programming Assignment#3 (week-3)\n",
    "\n",
    "Every assignment will be announced on **Thursday** and should be sumitted by next **Tuesday**.\n",
    "\n",
    "In this week **Handed out will be Sep 17, 2020, Due Sep 22, 2020**"
   ]
  },
  {
   "cell_type": "markdown",
   "metadata": {},
   "source": [
    "# 1. Contacts Manager\n",
    "\n",
    "We want to develop the address book we created last assignment(week-2, contacts).\n",
    "\n",
    "Refer to the given skeleton code and complete the program to work correctly.\n",
    "\n",
    "The assignment directory structure should be follow:\n",
    "\n",
    "- week-3\n",
    "    - contacts\n",
    "        - contacts.cc // Code you need to complete\n",
    "        - contacts.h  // Definition of contacts type\n",
    "        - student.h   // Definition of student type\n",
    "        - utility.h   // memory allocator\n",
    "\n",
    "You only need to edit the `contacts.cc` file.\n",
    "\n",
    "Find the commented `TODO:` flag in the code to complete the function.\n",
    "The code you implement should satisfy the following comment of each function.\n",
    "\n",
    "The function signature to be implemented is as follows."
   ]
  },
  {
   "cell_type": "code",
   "execution_count": null,
   "metadata": {},
   "outputs": [],
   "source": [
    "bool add(student_t student);\n",
    "bool add(int id, std::string name);\n",
    "bool add(int id, std::string name, std::string phone);\n",
    "bool add(int id, std::string name, std::string phone, std::string mail);\n",
    "\n",
    "bool remove(int id);\n",
    "\n",
    "bool update(int id, std::string name, std::string phone, std::string mail);\n",
    "\n",
    "student_t find(int id);\n",
    "\n",
    "size_t size();"
   ]
  },
  {
   "cell_type": "markdown",
   "metadata": {},
   "source": [
    "**Helps**\n",
    "\n",
    "You haven't learned it, but you might think that the variables you need to use are already declared. Think of the `students` and `m_size` variables defined globally anywhere in the function you need to implement.\n",
    "\n",
    "In remove operation, you can explicitly express that it has removed by marking the student id as an unusable value such as -1."
   ]
  },
  {
   "cell_type": "markdown",
   "metadata": {},
   "source": [
    "## Guide for beginners\n",
    "\n",
    "Our purpose is to fill in the contents of the following 8 functions."
   ]
  },
  {
   "cell_type": "code",
   "execution_count": null,
   "metadata": {},
   "outputs": [],
   "source": [
    "bool add(student_t student);\n",
    "bool add(int id, std::string name);\n",
    "bool add(int id, std::string name, std::string phone);\n",
    "bool add(int id, std::string name, std::string phone, std::string mail);\n",
    "\n",
    "bool remove(int id);\n",
    "\n",
    "bool update(int id, std::string name, std::string phone, std::string mail);\n",
    "\n",
    "student_t find(int id);\n",
    "\n",
    "size_t size();"
   ]
  },
  {
   "cell_type": "markdown",
   "metadata": {},
   "source": [
    "### Add\n",
    "\n",
    "First, let's look at the add function. The process of saving the student with the information entered must be carried out.\n",
    "\n",
    "We already have an array of `studet_t` named `students` declared to be of a certain size.\n",
    "We will find a space that has not already been assigned a student and add the students that have been entered.\n",
    "\n",
    "First, how do you find an empty space?, consider a loop through students."
   ]
  },
  {
   "cell_type": "code",
   "execution_count": null,
   "metadata": {},
   "outputs": [],
   "source": [
    "for (int i = 0; i < m_size; i++) {\n",
    "    // students[i]\n",
    "}"
   ]
  },
  {
   "cell_type": "markdown",
   "metadata": {},
   "source": [
    "We have to check two things as we tour the students. \n",
    "First of all, duplicate students cannot enter, so the ID of the entered student and the existing ID must not match either. And the input student will be added to the first space marked with an empty space such as -1 with id.\n",
    "\n",
    "To put it simply, we can think of the following two loops. The rest of the add functions can work this way, or you can use function overloading!\n",
    "\n",
    "*It would of course be possible to reduce the loop to one by using an additional variable.*"
   ]
  },
  {
   "cell_type": "code",
   "execution_count": null,
   "metadata": {},
   "outputs": [],
   "source": [
    "bool contacts_t::add(student_t student) {\n",
    "    // check duplicate\n",
    "    for (int i = 0; i < m_size; i++) {\n",
    "        if (students[i].id == student.id) {\n",
    "            return false;\n",
    "        }\n",
    "    }\n",
    "\n",
    "    // find empty space and put student\n",
    "    for (int i = 0; i < m_size; i++) {\n",
    "        if (students[i].id == -1) {\n",
    "            students[i] = student;\n",
    "            return true;\n",
    "        }\n",
    "    }\n",
    "\n",
    "    return false;\n",
    "}"
   ]
  },
  {
   "cell_type": "markdown",
   "metadata": {},
   "source": [
    "## Remove\n",
    "\n",
    "Now let's see how to write remove function.\n",
    "\n",
    "First you just need to find the student that matches the given id and mark its id as -1. \n",
    "\n",
    "(*The -1 is for convenience. You can set a specific value that will not be entered as an id, or you can add a variable indicating that it has been deleted.*)\n",
    "\n",
    "So, it loops through the `students` and searches if there is a student with the same ID and if so, deletes it and returns `true`."
   ]
  },
  {
   "cell_type": "code",
   "execution_count": null,
   "metadata": {},
   "outputs": [],
   "source": [
    "bool contacts_t::remove(int id) {\n",
    "    for (size_t i = 0; i < m_size; i++) {\n",
    "        if (students[i].id == id) {\n",
    "            students[i].id = -1;\n",
    "            return true;\n",
    "        }\n",
    "    }\n",
    "\n",
    "    return false;\n",
    "}"
   ]
  },
  {
   "cell_type": "markdown",
   "metadata": {},
   "source": [
    "## Remain parts\n",
    "\n",
    "The configuration of the rest of the function is similar. You can traverse the `students` to find students with a given id, update information (*update function*), or return the student itself(*find function*). If you make the process of finding the id itself as a separate function, you can increase code reusability."
   ]
  },
  {
   "cell_type": "code",
   "execution_count": null,
   "metadata": {},
   "outputs": [],
   "source": []
  }
 ],
 "metadata": {
  "kernelspec": {
   "display_name": "C++17",
   "language": "C++17",
   "name": "xcpp17"
  },
  "language_info": {
   "codemirror_mode": "text/x-c++src",
   "file_extension": ".cpp",
   "mimetype": "text/x-c++src",
   "name": "c++",
   "version": "-std=c++17"
  }
 },
 "nbformat": 4,
 "nbformat_minor": 4
}
