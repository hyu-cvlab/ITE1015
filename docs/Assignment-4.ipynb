{
 "cells": [
  {
   "cell_type": "markdown",
   "metadata": {},
   "source": [
    "# Creative Software Programming Assignment#4 (week-4)\n",
    "\n",
    "Every assignment will be announced on **Thursday** and should be sumitted by next **Tuesday**.\n",
    "\n",
    "In this week **Handed out will be Sep 24, 2020, Due Sep 29, 2020**"
   ]
  },
  {
   "cell_type": "markdown",
   "metadata": {},
   "source": [
    "### Structure\n",
    "\n",
    "- week-4\n",
    "    - problem1.cc\n",
    "    - problem2.cc (Optional)"
   ]
  },
  {
   "cell_type": "markdown",
   "metadata": {},
   "source": [
    "## 1. Dynamic array (85%)\n",
    "\n",
    "There is `std::vector` in STL for dynamic array. Using a `std::vector` you can insert or delete elements without regard to size, and random access like you did with arrays.\n",
    "\n",
    "To create a dynamic array like this `std::vector`, you need to allocate memory and reallocate if the memory size becomes insufficient due to the addition of elements.\n",
    "\n",
    "In this assignment, implement `len`, `push_back` and `pop_back` (*see also comment of each function*). You can use(or not use) `initialize` and `release` function for allocate/release memory.\n",
    "\n",
    "**More like a Python List**\n",
    "\n",
    "- array is pointer of array.\n",
    "- cap is allocated size of array.\n",
    "- In scoring, only call push_back and pop_back\n",
    "- initialize/release is not called in main\n",
    "\n",
    "**The main function will be removed in scoring**"
   ]
  },
  {
   "cell_type": "code",
   "execution_count": null,
   "metadata": {},
   "outputs": [],
   "source": [
    "#include <iostream>\n",
    "\n",
    "int* array;\n",
    "size_t cap = 0;\n",
    "\n",
    "void initialize(int cap_) {\n",
    "    array = new int[cap_];\n",
    "    cap = cap_;\n",
    "}\n",
    "\n",
    "void release() {\n",
    "    delete[] array;\n",
    "}\n",
    "\n",
    "void push_back(int element) {\n",
    "    // TODO:\n",
    "    // insert element to back of array\n",
    "    // if array is [1,2,3], and push_back(4) called,\n",
    "    // then array should be [1,2,3,4]\n",
    "}\n",
    "\n",
    "int pop_back() {\n",
    "    // TODO:\n",
    "    // return last element of array and remove it from array\n",
    "    // if array is [1,2,3,4] and pop_back() called,\n",
    "    // then array should be [1,2,3] and pop_back() return 4.\n",
    "}\n",
    "\n",
    "int len() {\n",
    "    // TODO:\n",
    "    // return size of array\n",
    "}\n",
    "\n",
    "int main() {\n",
    "    return 0;\n",
    "}"
   ]
  },
  {
   "cell_type": "markdown",
   "metadata": {},
   "source": [
    "## 2. Dynamic array structuer (15%)\n",
    "\n",
    "With problem-1 we can use template and structs to create dynamic arrays that work in more general case.\n",
    "\n",
    "implement below function with TODO tag\n",
    "\n",
    "**The main function will be removed in scoring**"
   ]
  },
  {
   "cell_type": "code",
   "execution_count": null,
   "metadata": {},
   "outputs": [],
   "source": [
    "#include <iostream>\n",
    "\n",
    "template <typename T>\n",
    "struct dynamic_array {\n",
    "    T* pointer = nullptr;\n",
    "    size_t cap = 0;\n",
    "\n",
    "public:\n",
    "    dynamic_array(size_t cap)\n",
    "    : cap(cap) {\n",
    "        this->pointer = new T[cap];\n",
    "    }\n",
    "\n",
    "    void push_front(const T& element) {\n",
    "        // TODO: push_front\n",
    "        // if array is [2,3] and pop_front(1) called\n",
    "        // then array should be [1,2,3]\n",
    "    }\n",
    "\n",
    "    void push_back(const T& element) {\n",
    "        // TODO: push_back\n",
    "        // if array is [1,2] and pop_front(3) called\n",
    "        // then array should be [1,2,3]\n",
    "    }\n",
    "\n",
    "    T pop_front() {\n",
    "        // TODO: pop front\n",
    "        // if array is [1,2,3], and pop_front called\n",
    "        // then array should be [2,3] and return 1\n",
    "    }\n",
    "\n",
    "    T pop_back() {\n",
    "        // TODO: pop back\n",
    "        // if array is [1,2,3], and pop_front called\n",
    "        // then array should be [1,2] and return 3\n",
    "    }\n",
    "\n",
    "    ~dynamic_array() {\n",
    "        delete[] this->pointer;\n",
    "    }\n",
    "};\n",
    "\n",
    "int main() {\n",
    "    return 0;\n",
    "}"
   ]
  },
  {
   "cell_type": "code",
   "execution_count": null,
   "metadata": {},
   "outputs": [],
   "source": []
  }
 ],
 "metadata": {
  "kernelspec": {
   "display_name": "C++17",
   "language": "C++17",
   "name": "xcpp17"
  },
  "language_info": {
   "codemirror_mode": "text/x-c++src",
   "file_extension": ".cpp",
   "mimetype": "text/x-c++src",
   "name": "c++",
   "version": "-std=c++17"
  }
 },
 "nbformat": 4,
 "nbformat_minor": 4
}
