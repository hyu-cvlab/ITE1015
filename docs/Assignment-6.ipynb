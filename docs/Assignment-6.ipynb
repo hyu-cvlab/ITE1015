{
 "cells": [
  {
   "cell_type": "markdown",
   "metadata": {},
   "source": [
    "# Creative Software Programming Assignment#6 (week-6)\n",
    "\n",
    "Every assignment will be announced on **Thursday** and should be sumitted by next **Tuesday**.\n",
    "\n",
    "In this week **Handed out will be Oct 8, 2020, Due Oct 13, 2020**"
   ]
  },
  {
   "cell_type": "markdown",
   "metadata": {},
   "source": [
    "## 1. Linked List (85%)\n",
    "\n",
    "We are going to create a simple linked list data structure. First, check the node structure by referring to `node.h`. Also in `list.h` there is a simple skeleton code written.\n",
    "\n",
    "A linked list refers to nodes in a connected form, where each node points to the next node.\n",
    "\n",
    "The List class has a special node called **head**. The next of head node will point to the first element in the list. The next of the first element of the list points to the second element of the list, and in this way we can iterate through the list repeatedly until nullptr(0x0) appears.\n",
    "\n",
    "\n",
    "**Assignment Structure**\n",
    "- week-6\n",
    "    - node.h\n",
    "    - list.h\n",
    "    - main.cc\n",
    "    - CMakeLists.txt\n",
    "\n",
    "![Linked List](https://www.geeksforgeeks.org/wp-content/uploads/gq/2013/03/Linkedlist.png)"
   ]
  },
  {
   "cell_type": "code",
   "execution_count": null,
   "metadata": {},
   "outputs": [],
   "source": [
    "#include <string>\n",
    "#include <functional>\n",
    "\n",
    "#include \"node.h\"\n",
    "\n",
    "template <typename T>\n",
    "class List {\n",
    "public:\n",
    "    List() : count(0) {\n",
    "        head = new Node<T>(0, nullptr);\n",
    "    }\n",
    "    ~List() {\n",
    "        // TODO: write your code here\n",
    "        // release remain nodes before delete head node\n",
    "        delete head;\n",
    "    }\n",
    "\n",
    "    void push_front(T value) {\n",
    "        // TODO: write your code here\n",
    "        // create new node with value\n",
    "        // and add node to front of list\n",
    "    }\n",
    "    void push_back(T value) {\n",
    "        // TODO: write your code here\n",
    "        // create new node with value\n",
    "        // and add node to back of list\n",
    "    }\n",
    "    T pop_front() {\n",
    "        // TODO: write your code here\n",
    "        // remove front node(not head)\n",
    "        // and return its value\n",
    "        // if try to remove head node return 0\n",
    "    }\n",
    "    T pop_back() {\n",
    "        // TODO: write your code here\n",
    "        // remove back node(not head)\n",
    "        // and return its value\n",
    "        // if try to remove head node return 0\n",
    "    }\n",
    "\n",
    "    size_t size() {\n",
    "        // TODO: write your code here\n",
    "        // return current items in list (except head)\n",
    "    }\n",
    "\n",
    "    void traverse(const std::function<void(const Node<T>&)>& f) {\n",
    "        for (Node<T>* node = head->next; node != nullptr; node = node->next) {\n",
    "            f(*node);\n",
    "        }\n",
    "    }\n",
    "\n",
    "private:\n",
    "    Node<T>* head;\n",
    "    size_t count;\n",
    "    \n",
    "    // OPTIONAL: you can write helper functions\n",
    "};\n"
   ]
  },
  {
   "cell_type": "markdown",
   "metadata": {},
   "source": [
    "## 2. Double Linked List (15%)\n",
    "\n",
    "The list implemented in Problem 1. is called a single linked list where each node points only to the next node. If each node has not only the next but also the previous node, prev, it is a double linked list. Use the node structure below to implement a double linked list.\n",
    "\n",
    "You can start by copying the previously created list.h file to double_linked_list.h. See below for double_linked_node.h.\n",
    "\n",
    "**Assignment Structure**\n",
    "- week-6\n",
    "    - double_linked_node.h\n",
    "    - double_linked_list.h"
   ]
  },
  {
   "cell_type": "code",
   "execution_count": null,
   "metadata": {},
   "outputs": [],
   "source": [
    "template <typename T>\n",
    "class Node {\n",
    "public:\n",
    "    Node() {}\n",
    "    Node(T value) : value(value) {}\n",
    "    Node(T value, Node* next, Node* prev) : value(value), next(next), prev(prev) {}\n",
    "    \n",
    "    T value;\n",
    "    Node* next;\n",
    "    Node* prev;\n",
    "};\n"
   ]
  },
  {
   "cell_type": "code",
   "execution_count": null,
   "metadata": {},
   "outputs": [],
   "source": []
  }
 ],
 "metadata": {
  "kernelspec": {
   "display_name": "Python 3",
   "language": "python",
   "name": "python3"
  },
  "language_info": {
   "codemirror_mode": {
    "name": "ipython",
    "version": 3
   },
   "file_extension": ".py",
   "mimetype": "text/x-python",
   "name": "python",
   "nbconvert_exporter": "python",
   "pygments_lexer": "ipython3",
   "version": "3.7.7"
  }
 },
 "nbformat": 4,
 "nbformat_minor": 4
}
