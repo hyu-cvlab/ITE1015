{
 "cells": [
  {
   "cell_type": "markdown",
   "metadata": {},
   "source": [
    "# Test with testcase\n",
    "\n",
    "Testing the program is a very important process. As you progress through the assignment, you may wonder the output of test case.\n",
    "So, as you progress through the assignment, you can think about the expected outcome for specific input and check that the program is working properly.\n",
    "\n",
    "We use standard input and output in the assignment, so we can get the result by typing in the shell.\n",
    "\n",
    "However, it is inconvenient to enter the input into the shell each time, \n",
    "so we can put the test case file as input into the program through standard IO.\n",
    "\n",
    "You can think of how to manage test cases through the example below."
   ]
  },
  {
   "cell_type": "markdown",
   "metadata": {},
   "source": [
    "First, build the source code for `the-starry-night.cc` in week-2 assignment.\n",
    "\n",
    "The command below creates an executable file named `a.out` using `the-starry-night.cc` source code."
   ]
  },
  {
   "cell_type": "code",
   "execution_count": null,
   "metadata": {},
   "outputs": [],
   "source": [
    "$ g++ the-starry-night.cc -o a.out"
   ]
  },
  {
   "cell_type": "markdown",
   "metadata": {},
   "source": [
    "Then, create a test file named `input-a.txt` with the following information."
   ]
  },
  {
   "cell_type": "code",
   "execution_count": null,
   "metadata": {},
   "outputs": [],
   "source": [
    "3"
   ]
  },
  {
   "cell_type": "markdown",
   "metadata": {},
   "source": [
    "And run the program with this test file as input.\n",
    "\n",
    "If you have written the program correctly, you can get the following result."
   ]
  },
  {
   "cell_type": "code",
   "execution_count": null,
   "metadata": {},
   "outputs": [],
   "source": [
    "$ ./a.out < input-a.txt\n",
    "*\n",
    "**\n",
    "***"
   ]
  },
  {
   "cell_type": "markdown",
   "metadata": {},
   "source": [
    "Also we can also save these results to a file named `output-a.txt` for check later."
   ]
  },
  {
   "cell_type": "code",
   "execution_count": null,
   "metadata": {},
   "outputs": [],
   "source": [
    "$ ./a.out < input-a.txt > output-a.txt"
   ]
  },
  {
   "cell_type": "markdown",
   "metadata": {},
   "source": [
    "You can also check what is written in output-a.txt with the following command."
   ]
  },
  {
   "cell_type": "code",
   "execution_count": null,
   "metadata": {},
   "outputs": [],
   "source": [
    "$ cat output-a.txt\n",
    "*\n",
    "**\n",
    "***"
   ]
  },
  {
   "cell_type": "markdown",
   "metadata": {},
   "source": [
    "Create several test cases and check if the program is well written according to the specifications"
   ]
  },
  {
   "cell_type": "code",
   "execution_count": null,
   "metadata": {},
   "outputs": [],
   "source": []
  }
 ],
 "metadata": {
  "kernelspec": {
   "display_name": "C++17",
   "language": "C++17",
   "name": "xcpp17"
  },
  "language_info": {
   "codemirror_mode": "text/x-c++src",
   "file_extension": ".cpp",
   "mimetype": "text/x-c++src",
   "name": "c++",
   "version": "-std=c++17"
  }
 },
 "nbformat": 4,
 "nbformat_minor": 4
}
