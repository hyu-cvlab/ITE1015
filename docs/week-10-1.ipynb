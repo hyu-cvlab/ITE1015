{
 "cells": [
  {
   "cell_type": "markdown",
   "metadata": {},
   "source": [
    "# Creative Software Programming Practice (week-10-1)\n",
    "\n",
    "Every assignment will be announced on **Thursday** and should be sumitted by next **Tuesday**.\n",
    "\n",
    "We have practice classes on Wednesdays and Thursdays. \n",
    "The contents of the practice class are different from the assignments and aim to be completed on the same day.\n",
    "\n",
    "Assignments will be publish on Thursday and must be submitted by the next Tuesday.\n",
    "\n",
    "In this week **Handed out will be Nov 5, 2020, Due Nov 10, 2020**"
   ]
  },
  {
   "cell_type": "markdown",
   "metadata": {},
   "source": [
    "## Topics\n",
    "\n",
    "1. Practices-1\n",
    "2. Practices-2"
   ]
  },
  {
   "cell_type": "markdown",
   "metadata": {},
   "source": [
    "## 1. Practices-1\n",
    "\n",
    "We learned about polymorphism and inheritance until the previous hour.\n",
    "Therefore, we will practice implementing a program using this. Write a program that works as follows:"
   ]
  },
  {
   "cell_type": "markdown",
   "metadata": {},
   "source": [
    "1.\tDefine class Shape that has a constructor taking *width* and *height* as parameters (double type).\n",
    "2.\tDefine class **Circle**, **Triangle** and class **Rectangle** which inherit from class Shape. Each subclass also has a constructor taking *width* and *height* as parameters (double type).\n",
    "\n",
    "***assume that PI = 3.14***\n",
    "\n",
    "3.\tAll classes have a member function, `double getArea()`.\n",
    "4.\t`Shape::getArea()` is a pure virtual function.\n",
    "5.\tTake inputs from the user and create objects of proper type according to the input by new operator, and then put those objects into `std::vector<Shape*> arr`.\n",
    "6.\tWhen the user enters 0, call the getArea() of each element of arr to print out calculated area. Each element of arr must be deallocated after use.\n",
    "7.\tDo not use the type casting operator throughout the code.\n",
    "8.\tThis program should take user input repeatedly"
   ]
  },
  {
   "cell_type": "markdown",
   "metadata": {},
   "source": [
    "**Input**:\n",
    "- r *width*, *height*\n",
    "\n",
    "    create a rectangle\n",
    "    \n",
    "- t *width*, *height*\n",
    "\n",
    "    create a triangle\n",
    "    \n",
    "- c *width*, *height*\n",
    "\n",
    "    create a circle\n",
    "    \n",
    "- 0\n",
    "\n",
    "    print the results and quit the program\n",
    "    \n",
    "\n",
    "\n",
    "**Output**:\n",
    "\n",
    "Areas of the shapes"
   ]
  },
  {
   "cell_type": "markdown",
   "metadata": {},
   "source": [
    "Example:\n",
    "```\n",
    "r 10 5\n",
    "t 2 4\n",
    "c 3 3\n",
    "0\n",
    "50\n",
    "4\n",
    "28.26\n",
    "```"
   ]
  },
  {
   "cell_type": "code",
   "execution_count": null,
   "metadata": {},
   "outputs": [],
   "source": [
    "// shapes.h\n",
    "\n",
    "class Shape {\n",
    "public:\n",
    "    double width, height;\n",
    "\n",
    "    Shape(double width, double height)\n",
    "    : width(width), height(height) {\n",
    "    }\n",
    "    \n",
    "    virtual getArea() = 0;\n",
    "};\n",
    "\n",
    "\n",
    "class Rectangle ...\n",
    "class Triangle ...\n",
    "class Circle ..."
   ]
  },
  {
   "cell_type": "code",
   "execution_count": null,
   "metadata": {},
   "outputs": [],
   "source": [
    "// shape-main.cc\n",
    "\n",
    "#include <iostream>\n",
    "\n",
    "int main() {\n",
    "    \n",
    "}"
   ]
  },
  {
   "cell_type": "markdown",
   "metadata": {},
   "source": [
    "## Pratice-2"
   ]
  },
  {
   "cell_type": "markdown",
   "metadata": {},
   "source": [
    "Write a program that works as follows:"
   ]
  },
  {
   "cell_type": "markdown",
   "metadata": {},
   "source": [
    "1.\tClass **Animal** has two member variables, `std::string name` and `int age`, and has a constructor that initializes the values of name and age by taking a string and an integer as arguments.\n",
    "2.\tClass **Zebra** that inherits **Animal** has a member variable, `int numStripes`, and has a constructor that initializes the values of name, age, and numStripes by taking a string, an integer, and an integer as arguments.\n",
    "    - The member variable of the parent class is initialized through the constructor of the parent class.\n",
    "4.\tClass **Cat** that inherits **Animal** has a member variable, `std::string favoriteToy`, and has a constructor that initializes the values of name, age, and favoriteToy by taking a string, an integer, and a string as arguments.\n",
    "    - The member variable of the parent class is initialized through the constructor of the parent class.\n",
    "5.\tEach class has a member function printInfo()\n",
    "    - Animal::printInfo() does nothing. make it pure virtual function\n",
    "    - Zebra::printInfo() and Cat::printInfo() print out the type, name, age, and number of stripes (or favorite toy) as shown in the following example.\n",
    "6.\tCreate **Zebra** or **Cat** objects according to user input, ant put them into `std::vector<Animal*>` animals.\n",
    "7.\tWhen the user enters 0, call the printInfo() function of each element of animals. Each element of animals must be deallocated after use.\n",
    "8.\tDo not use the type casting operator throughout the code.\n",
    "9.\tThis program should take user input repeatedly"
   ]
  },
  {
   "cell_type": "markdown",
   "metadata": {},
   "source": [
    "**Input**:\n",
    "- z *name*, *age*, *numStripes*\n",
    "\n",
    "- c *name*, *age*, *favoritToy*\n",
    "\n",
    "- 0\n",
    "\n",
    "    print the results and quit the program\n",
    "    \n",
    "\n",
    "\n",
    "**Output**:\n",
    "\n",
    "The result for calling printInfo() functions"
   ]
  },
  {
   "cell_type": "code",
   "execution_count": null,
   "metadata": {},
   "outputs": [],
   "source": [
    "// animal.h\n",
    "\n",
    "class Animal ...\n",
    "class Cat ...\n",
    "class Zebra ..."
   ]
  },
  {
   "cell_type": "code",
   "execution_count": null,
   "metadata": {},
   "outputs": [],
   "source": [
    "// animal-main.cc\n",
    "\n",
    "#include <iostream>\n",
    "\n",
    "int main() {\n",
    "    \n",
    "}"
   ]
  },
  {
   "cell_type": "code",
   "execution_count": null,
   "metadata": {},
   "outputs": [],
   "source": []
  }
 ],
 "metadata": {
  "kernelspec": {
   "display_name": "C++17",
   "language": "C++17",
   "name": "xcpp17"
  },
  "language_info": {
   "codemirror_mode": "text/x-c++src",
   "file_extension": ".cpp",
   "mimetype": "text/x-c++src",
   "name": "c++",
   "version": "-std=c++17"
  }
 },
 "nbformat": 4,
 "nbformat_minor": 4
}
