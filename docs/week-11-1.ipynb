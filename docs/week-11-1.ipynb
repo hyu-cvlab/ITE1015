{
 "cells": [
  {
   "cell_type": "markdown",
   "metadata": {},
   "source": [
    "# Creative Software Programming Practice (week-11-1)\n",
    "\n",
    "Every assignment will be announced on **Thursday** and should be sumitted by next **Tuesday**.\n",
    "\n",
    "We have practice classes on Wednesdays and Thursdays. \n",
    "The contents of the practice class are different from the assignments and aim to be completed on the same day.\n",
    "\n",
    "Assignments will be publish on Thursday and must be submitted by the next Tuesday.\n",
    "\n",
    "In this week **Handed out will be Nov 12, 2020, Due Nov 17, 2020**"
   ]
  },
  {
   "cell_type": "markdown",
   "metadata": {},
   "source": [
    "## Topics\n",
    "\n",
    "1. Practices-1\n",
    "2. Practices-2\n",
    "3. Practices-3"
   ]
  },
  {
   "cell_type": "markdown",
   "metadata": {},
   "source": [
    "## 1. Practices-1\n",
    "\n",
    "Implement the following class Number, Square, and Cube as directed in the comments\n",
    "\n",
    "- week-11\n",
    "    - p1\n",
    "        - main.cc\n",
    "        - number.h\n",
    "        - number.cc\n",
    "        - CMakeLists.txt"
   ]
  },
  {
   "cell_type": "code",
   "execution_count": null,
   "metadata": {},
   "outputs": [],
   "source": [
    "// p1/number.h\n",
    "\n",
    "class Number {\n",
    "protected:\n",
    "    int _num;\n",
    "public:\n",
    "    void setNumber(int num) {\n",
    "       _num = num;\n",
    "    }\n",
    "    int getNumber() { \n",
    "        return _num;\n",
    "    }\n",
    "};\n",
    "\n",
    "class Square: public Number {\n",
    "public:\n",
    "    int getSquare(); // Implemented to return the square of the number specified by setNumber()\n",
    "};\n",
    "\n",
    "class Cube: public Square {\n",
    "public:\n",
    "    int getCube (); // Implemented to return the cube of the number specified by setNumber()\n",
    "};\n"
   ]
  },
  {
   "cell_type": "markdown",
   "metadata": {},
   "source": [
    "This program should take user input repeatedly\n",
    "\n",
    "- 'number' [number] - Create a Number object and print out the return value of getNumber() as shown in the following example.\n",
    "- 'square' [number] - Create a Square object and print out the return value of getNumber() and getSquare() as shown in the following example.\n",
    "- 'cube' [number] - Create a Cube object and print out the return value of getNumber(), getSquare(), and getCube() as shown in the following example.\n",
    "- 'quit' – Quit the program."
   ]
  },
  {
   "cell_type": "markdown",
   "metadata": {},
   "source": [
    "**Input**:\n",
    "\n",
    "```\n",
    "number 3\n",
    "square 2\n",
    "cube 4\n",
    "quit\n",
    "```\n",
    "\n",
    "**Output**:\n",
    "\n",
    "```\n",
    "getNumber(): 3\n",
    "getNumber(): 2\n",
    "getSquare(): 4\n",
    "getNumber(): 4\n",
    "getSquare(): 16\n",
    "getCube(): 64\n",
    "```"
   ]
  },
  {
   "cell_type": "markdown",
   "metadata": {},
   "source": [
    "## Pratice-2"
   ]
  },
  {
   "cell_type": "markdown",
   "metadata": {},
   "source": [
    "The following program prints out 2. Modify the program using one of the C ++ type casting operators only once so that it prints out 2.5 (actual division result).\n",
    "\n",
    "\n",
    "- week-11\n",
    "    - p2\n",
    "        - main.cc\n",
    "        - CMakeLists.txt"
   ]
  },
  {
   "cell_type": "code",
   "execution_count": null,
   "metadata": {},
   "outputs": [],
   "source": [
    "// p2/main.cc\n",
    "#include <iostream>\n",
    "\n",
    "\n",
    "int main() {\n",
    "    int a = 10;\n",
    "    int b = 4;\n",
    "    cout << a / b << endl;\n",
    "    return 0;\n",
    "}"
   ]
  },
  {
   "cell_type": "markdown",
   "metadata": {},
   "source": [
    "**Input**:\n",
    "\n",
    "```\n",
    "(No input)\n",
    "```\n",
    "\n",
    "**Output**:\n",
    "\n",
    "```\n",
    "2.5\n",
    "```"
   ]
  },
  {
   "cell_type": "markdown",
   "metadata": {},
   "source": [
    "## Pratice-3\n",
    "\n",
    "Write a program that works as follows using the following code\n",
    "\n",
    "\n",
    "- week-11\n",
    "    - p3\n",
    "        - main.cc\n",
    "        - CMakeLists.txt"
   ]
  },
  {
   "cell_type": "markdown",
   "metadata": {},
   "source": [
    "- Take arbitrary number of \"B\", \"C\", and \"D\" strings, and then creates one object of class B, C, or D for each string, and put those object into std::vector<B*> arr.\n",
    "- When the user enters 0, the for statement traverses each element of arr,\n",
    "    - Call C::test_C() if the element is a C type object\n",
    "    - Call D::test_D() if the element is a D type object (using dynamic_cast)\n",
    "    - Do nothing for the B type object\n",
    "- Note that this problem is intended to practice how to use dynamic_cast, so remember that using dynamic_cast in this way is not desirable.\n",
    "- Each element of arr must be deallocated after use.\n",
    "- This program should take user input repeatedly"
   ]
  },
  {
   "cell_type": "code",
   "execution_count": null,
   "metadata": {},
   "outputs": [],
   "source": [
    "class B  {\n",
    "public:\n",
    "    virtual ~B() {}\n",
    "};\n",
    "\n",
    "class C : public B {\n",
    "public:\n",
    "    void test_C() { std::cout << \"C::test_C()\" << std::endl; }\n",
    "};\n",
    "\n",
    "class D : public B {\n",
    "public:\n",
    "    void test_D() { std::cout << \"D::test_D()\" << std::endl; }\n",
    "};\n"
   ]
  },
  {
   "cell_type": "markdown",
   "metadata": {},
   "source": [
    "**Input**:\n",
    "\n",
    "```\n",
    "B\n",
    "C\n",
    "D\n",
    "B\n",
    "C\n",
    "0\n",
    "```\n",
    "\n",
    "**Output**:\n",
    "\n",
    "```\n",
    "C::test_C()\n",
    "D::test_D()\n",
    "C::test_C()\n",
    "```"
   ]
  },
  {
   "cell_type": "code",
   "execution_count": null,
   "metadata": {},
   "outputs": [],
   "source": []
  }
 ],
 "metadata": {
  "kernelspec": {
   "display_name": "C++17",
   "language": "C++17",
   "name": "xcpp17"
  },
  "language_info": {
   "codemirror_mode": "text/x-c++src",
   "file_extension": ".cpp",
   "mimetype": "text/x-c++src",
   "name": "c++",
   "version": "-std=c++17"
  }
 },
 "nbformat": 4,
 "nbformat_minor": 4
}
