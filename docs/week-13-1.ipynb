{
 "cells": [
  {
   "cell_type": "markdown",
   "metadata": {},
   "source": [
    "# Creative Software Programming Practice (week-13-1)\n",
    "\n",
    "Every assignment will be announced on **Thursday** and should be sumitted by next **Thursday**.\n",
    "\n",
    "We have practice classes on Wednesdays and Thursdays. \n",
    "The contents of the practice class are different from the assignments and aim to be completed on the same day.\n",
    "\n",
    "Assignments will be publish on Thursday and must be submitted by the next Tuesday.\n",
    "\n",
    "In this week **Handed out will be Nov 26, 2020, Due Dec 3, 2020**"
   ]
  },
  {
   "cell_type": "markdown",
   "metadata": {},
   "source": [
    "This exercise consists of several quizzes. Guess the results before running.\n",
    "\n",
    "You should be able to explain why you are getting such a result."
   ]
  },
  {
   "cell_type": "code",
   "execution_count": null,
   "metadata": {},
   "outputs": [],
   "source": [
    "// p1.cc\n",
    "#include <iostream>\n",
    "\n",
    "template <typename T>\n",
    "void f(T a) {\n",
    "    std::cout << \"template function call\" << std::endl;\n",
    "}\n",
    "\n",
    "void f(int a) {\n",
    "    std::cout << \"int function call\" << std::endl;\n",
    "}\n",
    "\n",
    "void f(size_t a) {\n",
    "    std::cout << \"size_t function call\" << std::endl;\n",
    "}\n",
    "\n",
    "void f(float a) {\n",
    "    std::cout << \"float function call\" << std::endl;\n",
    "}\n",
    "\n",
    "int main() {\n",
    "    f(\"3\");\n",
    "    f(3.f);\n",
    "    f(3.0);\n",
    "    f(3);\n",
    "    f(static_cast<size_t>(3));\n",
    "}"
   ]
  },
  {
   "cell_type": "code",
   "execution_count": null,
   "metadata": {},
   "outputs": [],
   "source": [
    "// p2.cc\n",
    "#include <iostream>\n",
    "\n",
    "void f(char*&&) { std::cout << 1 << std::endl; }\n",
    "void f(char*&) { std::cout << 2 << std::endl; }\n",
    "\n",
    "int main() {\n",
    "   char c = 'a';\n",
    "   f(&c);\n",
    "}"
   ]
  },
  {
   "cell_type": "code",
   "execution_count": null,
   "metadata": {},
   "outputs": [],
   "source": [
    "// p3.cc\n",
    "#include <iostream>\n",
    "\n",
    "void f(unsigned int) { std::cout << \"u\" << std::endl; }\n",
    "void f(int)          { std::cout << \"i\" << std::endl; }\n",
    "void f(char)         { std::cout << \"c\" << std::endl; }\n",
    "\n",
    "int main() {\n",
    "    char x = 1;\n",
    "    char y = 2;\n",
    "    f(x + y);\n",
    "}"
   ]
  },
  {
   "cell_type": "code",
   "execution_count": null,
   "metadata": {},
   "outputs": [],
   "source": [
    "// p4.cc (difficulty)\n",
    "#include <iostream>\n",
    "\n",
    "template<typename T>\n",
    "void f(T) {\n",
    "    std::cout << \"Template called\" << std::endl;;\n",
    "}\n",
    "\n",
    "struct S {\n",
    "};\n",
    "\n",
    "\n",
    "template<typename T>\n",
    "void call_f(T t) {\n",
    "  f(S());\n",
    "  f(t);\n",
    "}\n",
    "\n",
    "void f(S) {\n",
    "  std::cout << \"Struct called\" << std::endl;;\n",
    "}\n",
    "\n",
    "int main () {\n",
    "  call_f(S());\n",
    "}"
   ]
  },
  {
   "cell_type": "code",
   "execution_count": null,
   "metadata": {},
   "outputs": [],
   "source": [
    "// p5.cc\n",
    "#include <iostream>\n",
    "struct X {\n",
    "    virtual void f() const {\n",
    "        std::cout << \"X called\" << std::endl;\n",
    "    }\n",
    "};\n",
    "\n",
    "struct Y : public X {\n",
    "    void f() const {\n",
    "        std::cout << \"Y called\" << std::endl;\n",
    "    }\n",
    "};\n",
    "\n",
    "void print(const X &x) {\n",
    "    x.f();\n",
    "}\n",
    "\n",
    "int main() {\n",
    "  X arr[1];\n",
    "  Y y1;\n",
    "  arr[0] = y1;\n",
    "  print(y1);\n",
    "  print(arr[0]);\n",
    "}"
   ]
  },
  {
   "cell_type": "code",
   "execution_count": null,
   "metadata": {},
   "outputs": [],
   "source": []
  }
 ],
 "metadata": {
  "kernelspec": {
   "display_name": "C++17",
   "language": "C++17",
   "name": "xcpp17"
  },
  "language_info": {
   "codemirror_mode": "text/x-c++src",
   "file_extension": ".cpp",
   "mimetype": "text/x-c++src",
   "name": "c++",
   "version": "-std=c++17"
  }
 },
 "nbformat": 4,
 "nbformat_minor": 4
}
