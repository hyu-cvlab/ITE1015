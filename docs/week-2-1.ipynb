{
 "cells": [
  {
   "cell_type": "markdown",
   "metadata": {},
   "source": [
    "# Creative Software Programming Assignment (week-2)\n",
    "\n",
    "Every assignment will be announced on **Thursday** and should be sumitted by next **Tuesday**.\n",
    "\n",
    "In this week **Handed out will be Sep 10, 2020, Due Sep 15, 2020**"
   ]
  },
  {
   "cell_type": "markdown",
   "metadata": {},
   "source": [
    "### Submit your assignment only through the [hconnect GitLab](https://hconnect.hanyang.ac.kr)\n",
    "\n",
    "1. Your assignment should be in `week-2` directory.\n",
    "2. Commit & Push to the [hconnect GitLab](https://hconnect.hanyang.ac.kr) when you done."
   ]
  },
  {
   "cell_type": "markdown",
   "metadata": {},
   "source": [
    "## Topics\n",
    "\n",
    "1. Statements and flow control\n",
    "    - Selection statements\n",
    "    - Iteration statements\n",
    "    - Jump statements\n",
    "\n",
    "\n",
    "2. Handling input/output in assignment"
   ]
  },
  {
   "cell_type": "markdown",
   "metadata": {},
   "source": [
    "## 1. Statemetns and flow control\n",
    "\n",
    "A simple C++ statement is each of the individual instructions of a program, like the variable declarations and expressions seen in previous sections. They always end with a semicolon (;), and are executed in the same order in which they appear in a program.\n",
    "\n",
    "But programs are not limited to a linear sequence of statements. During its process, a program may repeat segments of code, or take decisions and bifurcate. For that purpose, C++ provides flow control statements that serve to specify what has to be done by our program, when, and under which circumstances.\n",
    "\n",
    "Many of the flow control statements explained in this section require a generic (sub)statement as part of its syntax. This statement may either be a simple C++ statement, -such as a single instruction, terminated with a semicolon (;) - or a compound statement. A compound statement is a group of statements (each of them terminated by its own semicolon), but all grouped together in a block, enclosed in curly braces: {}:\n",
    "\n",
    "```\n",
    "{ statement1; statement2; statement3; }\n",
    "```\n",
    "\n",
    "The entire block is considered a single statement (composed itself of multiple substatements). Whenever a generic statement is part of the syntax of a flow control statement, this can either be a simple statement or a compound statement."
   ]
  },
  {
   "cell_type": "markdown",
   "metadata": {},
   "source": [
    "### a. Selection Statements\n",
    "\n",
    "The `if` keyword is used to execute a statement or block, if, and only if, a condition is fulfilled. Its syntax as follow:\n",
    "\n",
    "```\n",
    "if (condition)\n",
    "{\n",
    "    statements;\n",
    "}\n",
    "```\n",
    "\n",
    "So, In case of below code, if `x` is exactly 42, program just print out message and if not, print out value of x.\n",
    "\n",
    "```\n",
    "if (x == 42) {\n",
    "    std::cout << \"X is the answer to life the universe and everything\" << std::end;\n",
    "} else {\n",
    "    std::cout << \"X is \" << x << std::endl;\n",
    "}\n",
    "```"
   ]
  },
  {
   "cell_type": "code",
   "execution_count": null,
   "metadata": {},
   "outputs": [],
   "source": [
    "// file: statement.cc\n",
    "#include <iostream>\n",
    "\n",
    "int main() {\n",
    "    if (true) {\n",
    "        std::cout << \"This statement is always executed.\" << std::endl;\n",
    "    } else {\n",
    "        std::cout << \"This statement is never executed.\" << std::endl;\n",
    "    }\n",
    "    \n",
    "    // Most programming languages assume nonzero numbers are true.\n",
    "    if (0) {\n",
    "        // so, this statement will never be executed\n",
    "        std::cout << \"0 is same as false\" << std::endl;\n",
    "    }\n",
    "    \n",
    "    if (1) {\n",
    "        std::cout << \"1 is same as true\" << std::endl;\n",
    "    } else if (2) {\n",
    "        // This is true because 2 is also a non-zero number.\n",
    "        // However, in the else if statement, \n",
    "        // if the condition that is true from the top condition is met first, \n",
    "        // the statement after it is not executed.\n",
    "        std::cout << \"2 is same as true\" << std::endl;\n",
    "    }\n",
    "    \n",
    "    if (\"some string\") {\n",
    "        std::cout << \"string is true! too\" << std::endl;\n",
    "    }\n",
    "    \n",
    "    return 0;\n",
    "}"
   ]
  },
  {
   "cell_type": "markdown",
   "metadata": {},
   "source": [
    "## 2. Pointer\n",
    "\n",
    "For a C++ program, the memory of a computer is like a array of memory cells, each one byte in size, and each with a unique address. These single-byte memory cells are ordered in a way that allows data representations larger than one byte to occupy memory cells that have consecutive addresses.\n",
    "\n",
    "This way, each cell can be easily located in the memory by means of its unique address. For example, the memory cell with the address 1776 always follows immediately after the cell with address 1775 and precedes the one with 1777, and is exactly one thousand cells after 776 and exactly one thousand cells before 2776.\n",
    "\n",
    "When a variable is declared, the memory needed to store its value is assigned a specific location in memory (its memory address). Generally, C++ programs do not actively decide the exact memory addresses where its variables are stored. Fortunately, that task is left to the environment where the program is run - generally, an operating system that decides the particular memory locations on runtime. However, it may be useful for a program to be able to obtain the address of a variable during runtime in order to access data cells that are at a certain position relative to it."
   ]
  },
  {
   "cell_type": "code",
   "execution_count": null,
   "metadata": {},
   "outputs": [],
   "source": [
    "// file: pointer.cc\n",
    "#include <iostream>\n",
    "\n",
    "int main() {\n",
    "    int var = 129;\n",
    "    // int* is type for point of int\n",
    "    // So, A* is type for point of A\n",
    "    int *var_address = &var;\n",
    "    int vluae_of_var_address = *var_address;\n",
    "\n",
    "    std::cout << \"Value of var: \" << var << std::endl;\n",
    "    std::cout << \"Address of var: \" << var_address << std::endl;\n",
    "    std::cout << \"Value of Address of var: \" << vluae_of_var_address << std::endl;\n",
    "\n",
    "    // pointer is just number of address\n",
    "    int ary[3];\n",
    "    ary[0] = 6;\n",
    "    ary[1] = 23;\n",
    "    ary[2] = 42;\n",
    "\n",
    "    int *address_of_ary_0 = &ary[0];\n",
    "    int *address_of_ary_1 = &ary[1];\n",
    "    int *address_of_ary_2 = &ary[2];\n",
    "\n",
    "    std::cout << \"Address of ary[0]: \" << address_of_ary_0 << std::endl;\n",
    "    std::cout << \"Address of ary[1]: \" << address_of_ary_1 << std::endl;\n",
    "    std::cout << \"Address of ary[2]: \" << address_of_ary_2 << std::endl;\n",
    "\n",
    "    // The difference between the address value of the ary is 1\n",
    "    std::cout << \"Address of ary[2] - ary[1]: \" << address_of_ary_2 - address_of_ary_1 << std::endl;\n",
    "    std::cout << \"Address of ary[1] - ary[0]: \" << address_of_ary_1 - address_of_ary_0 << std::endl;\n",
    "\n",
    "    // Therefore, adding 1 to the address value of ary[0] gives the value of ary[1], and adding 2 gives the value of ary[2].\n",
    "    std::cout << \"The value of (address of ary[0]): \" << *address_of_ary_0 << std::endl;\n",
    "    std::cout << \"The value of (address of ary[0] + 1): \" << *(address_of_ary_0+1) << std::endl;\n",
    "    std::cout << \"The value of (address of ary[0] + 2): \" << *(address_of_ary_0+2) << std::endl;\n",
    "\n",
    "    return 0;\n",
    "}"
   ]
  },
  {
   "cell_type": "markdown",
   "metadata": {},
   "source": [
    "## 3. Structure\n",
    "\n",
    "A data structure is a group of data elements grouped together under one name. These data elements, known as members, can have different types and different lengths. Data structures can be declared in C++ using the following syntax:\n",
    "\n",
    "```\n",
    "struct type_name {\n",
    "    int member_int;\n",
    "    std::string member_string;\n",
    "    .\n",
    "    .\n",
    "} object_names;\n",
    "```"
   ]
  },
  {
   "cell_type": "code",
   "execution_count": null,
   "metadata": {},
   "outputs": [],
   "source": [
    "// file: structure.cc\n",
    "#include <iostream>\n",
    "\n",
    "// Conventionally, _t is appended to indicate that it is a type.\n",
    "struct student_t {\n",
    "    int id;\n",
    "    std::string name;\n",
    "} student_a, student_b;\n",
    "\n",
    "int main() {\n",
    "    // access to member using '.'\n",
    "    student_a.id = 2019170229;\n",
    "    student_a.name = \"jiun\";\n",
    "    \n",
    "    student_b.id = 1;\n",
    "    student_b.name = \"b\";\n",
    "    \n",
    "    std::cout << \"Student A, id: \" << student_a.id << std::endl;\n",
    "    std::cout << \"Student A, name: \" << student_a.name << std::endl;\n",
    "    \n",
    "    std::cout << \"Student B, id: \" << student_b.id << std::endl;\n",
    "    std::cout << \"Student B, name: \" << student_b.name << std::endl;\n",
    "    \n",
    "    return 0;\n",
    "}"
   ]
  },
  {
   "cell_type": "markdown",
   "metadata": {},
   "source": [
    "*reference*\n",
    "\n",
    "- http://www.cplusplus.com/"
   ]
  },
  {
   "cell_type": "markdown",
   "metadata": {},
   "source": [
    "**Notice**\n",
    "\n",
    "1. Week-2 assignment will be announce in Thursday (Sep 10, 2020)\n",
    "2. The code we practiced today is not an assignment, it is a process necessary to solve the assignment that is being submitted tomorrow.\n",
    "3. In order to facilitate non-face-to-face classes, questions are frequently asked through chat rooms. (https://open.kakao.com/o/glEhaRtc, or mailto: maytryark@gmail.com)"
   ]
  },
  {
   "cell_type": "code",
   "execution_count": null,
   "metadata": {},
   "outputs": [],
   "source": []
  }
 ],
 "metadata": {
  "kernelspec": {
   "display_name": "C++17",
   "language": "C++17",
   "name": "xcpp17"
  },
  "language_info": {
   "codemirror_mode": "text/x-c++src",
   "file_extension": ".cpp",
   "mimetype": "text/x-c++src",
   "name": "c++",
   "version": "-std=c++17"
  }
 },
 "nbformat": 4,
 "nbformat_minor": 4
}
