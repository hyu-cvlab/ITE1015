{
 "cells": [
  {
   "cell_type": "markdown",
   "metadata": {},
   "source": [
    "# Creative Software Programming Assignment (week-2)\n",
    "\n",
    "Every assignment will be announced on **Thursday** and should be sumitted by next **Tuesday**.\n",
    "\n",
    "In this week **Handed out will be Sep 10, 2020, Due Sep 15, 2020**"
   ]
  },
  {
   "cell_type": "markdown",
   "metadata": {},
   "source": [
    "### Submit your assignment only through the [hconnect GitLab](https://hconnect.hanyang.ac.kr)\n",
    "\n",
    "1. Your assignment should be in `week-2` directory.\n",
    "2. Commit & Push to the [hconnect GitLab](https://hconnect.hanyang.ac.kr) when you done."
   ]
  },
  {
   "cell_type": "markdown",
   "metadata": {},
   "source": [
    "## Topics\n",
    "\n",
    "1. Statements and flow control\n",
    "    - Selection statements\n",
    "    - Iteration statements\n",
    "    - Jump statements\n",
    "\n",
    "\n",
    "2. Handling input/output in assignment"
   ]
  },
  {
   "cell_type": "markdown",
   "metadata": {},
   "source": [
    "## 1. Statements and flow control\n",
    "\n",
    "A simple C++ statement is each of the individual instructions of a program, like the variable declarations and expressions seen in previous sections. They always end with a semicolon (;), and are executed in the same order in which they appear in a program.\n",
    "\n",
    "But programs are not limited to a linear sequence of statements. During its process, a program may repeat segments of code, or take decisions and bifurcate. For that purpose, C++ provides flow control statements that serve to specify what has to be done by our program, when, and under which circumstances.\n",
    "\n",
    "Many of the flow control statements explained in this section require a generic (sub)statement as part of its syntax. This statement may either be a simple C++ statement, -such as a single instruction, terminated with a semicolon (;) - or a compound statement. A compound statement is a group of statements (each of them terminated by its own semicolon), but all grouped together in a block, enclosed in curly braces: {}:\n",
    "\n",
    "```\n",
    "{ statement1; statement2; statement3; }\n",
    "```\n",
    "\n",
    "The entire block is considered a single statement (composed itself of multiple substatements). Whenever a generic statement is part of the syntax of a flow control statement, this can either be a simple statement or a compound statement."
   ]
  },
  {
   "cell_type": "markdown",
   "metadata": {},
   "source": [
    "### a. Selection statements\n",
    "\n",
    "The `if` keyword is used to execute a statement or block, if, and only if, a condition is fulfilled. Its syntax as follow:\n",
    "\n",
    "```\n",
    "if (condition)\n",
    "{\n",
    "    statements;\n",
    "}\n",
    "```\n",
    "\n",
    "So, In case of below code, if `x` is exactly 42, program just print out message and if not, print out value of x.\n",
    "\n",
    "```\n",
    "if (x == 42) {\n",
    "    std::cout << \"X is the answer to life the universe and everything\" << std::end;\n",
    "} else {\n",
    "    std::cout << \"X is \" << x << std::endl;\n",
    "}\n",
    "```"
   ]
  },
  {
   "cell_type": "code",
   "execution_count": null,
   "metadata": {},
   "outputs": [],
   "source": [
    "// file: statement.cc\n",
    "#include <iostream>\n",
    "\n",
    "int main() {\n",
    "    if (true) {\n",
    "        std::cout << \"This statement is always executed.\" << std::endl;\n",
    "    } else {\n",
    "        std::cout << \"This statement is never executed.\" << std::endl;\n",
    "    }\n",
    "    \n",
    "    // Most programming languages assume nonzero numbers are true.\n",
    "    if (0) {\n",
    "        // so, this statement will never be executed\n",
    "        std::cout << \"0 is same as false\" << std::endl;\n",
    "    }\n",
    "    \n",
    "    if (1) {\n",
    "        std::cout << \"1 is same as true\" << std::endl;\n",
    "    } else if (2) {\n",
    "        // This is true because 2 is also a non-zero number.\n",
    "        // However, in the else if statement, \n",
    "        // if the condition that is true from the top condition is met first, \n",
    "        // the statement after it is not executed.\n",
    "        std::cout << \"2 is same as true\" << std::endl;\n",
    "    }\n",
    "    \n",
    "    if (\"some string\") {\n",
    "        std::cout << \"string is true! too\" << std::endl;\n",
    "    }\n",
    "    \n",
    "    if (true) {\n",
    "        if (true) {\n",
    "            if (true) {\n",
    "                std::cout << \"nested statement\" << std::endl;\n",
    "            }\n",
    "        }\n",
    "    }\n",
    "    \n",
    "    return 0;\n",
    "}"
   ]
  },
  {
   "cell_type": "markdown",
   "metadata": {},
   "source": [
    "### b. Iteration statements (loops)\n",
    "\n",
    "Loops repeat a statement a certain number of times, or while a condition is fulfilled, with keyword `while`, `do-while` and `for`.\n",
    "\n",
    "```\n",
    "while (condition) {\n",
    "    statement;\n",
    "}\n",
    "\n",
    "do {\n",
    "    statement;\n",
    "} while (condition);\n",
    "\n",
    "for (intialize; condition; increase) {\n",
    "    statement;\n",
    "}\n",
    "```\n",
    "\n",
    "The do-while syntax is very similar to the while syntax. The difference is that the condition is checked later, so even if it is a false condition, it is executed at least once."
   ]
  },
  {
   "cell_type": "code",
   "execution_count": null,
   "metadata": {},
   "outputs": [],
   "source": [
    "// file: iteration.cc\n",
    "#include <iostream>\n",
    "\n",
    "int main() {\n",
    "    // this is while loop\n",
    "    int n = 0;\n",
    "    while (n < 10) {\n",
    "        std::cout << n << \", \";\n",
    "        n = n + 1;\n",
    "    }\n",
    "    std::cout << std::endl;\n",
    "    // expect, 0, 1, 2, 3, 4, 5, 6, 7, 8, 9, \n",
    "    \n",
    "    // this is do-while loop\n",
    "    int m = 0;\n",
    "    do {\n",
    "        std::cout << m << \", \";\n",
    "        m = m + 1;\n",
    "    } while (m < 10);\n",
    "    std::cout << std::endl;\n",
    "    // expect, 0, 1, 2, 3, 4, 5, 6, 7, 8, 9, \n",
    "\n",
    "    // this is for loop\n",
    "    for (int i = 0; i < 10; i++) {\n",
    "        std::cout << i << \", \";\n",
    "    }\n",
    "    std::cout << std::endl;\n",
    "    // expect, 0, 1, 2, 3, 4, 5, 6, 7, 8, 9, \n",
    "    \n",
    "    return 0;\n",
    "}"
   ]
  },
  {
   "cell_type": "markdown",
   "metadata": {},
   "source": [
    "### c. Jump statements\n",
    "\n",
    "Jump statements allow altering the flow of a program by performing jumps to specific locations\n",
    "\n",
    "- break\n",
    "- continue\n",
    "- goto (not recommended)"
   ]
  },
  {
   "cell_type": "markdown",
   "metadata": {},
   "source": [
    "The **break** statement leaves a loop, even if the condition for its end is not fulfilled.\n",
    "\n",
    "```\n",
    "int i = 0;\n",
    "while (true) {\n",
    "    i = i + 1;\n",
    "    std::cout << i << \", \";\n",
    "    if (i > 10) {\n",
    "        break; \n",
    "    }\n",
    "}\n",
    "```\n",
    "\n",
    "Expected result `1, 2, 3, 4, 5, 6, 7, 8, 9, 10, 11, `"
   ]
  },
  {
   "cell_type": "markdown",
   "metadata": {},
   "source": [
    "The **continue** statement causes the program to skip the rest of the loop in the current iteration, as if the end of the statement block had been reached, causing it to jump to the start of the following iteration.\n",
    "\n",
    "```\n",
    "for (int i = 0; i < 10; i++) {\n",
    "    if (i == 4) {\n",
    "        continue;\n",
    "    }\n",
    "    std::cout << i << \", \";\n",
    "}\n",
    "```\n",
    "\n",
    "Expected result: `0, 1, 2, 3, 5, 6, 7, 8, 9, `"
   ]
  },
  {
   "cell_type": "markdown",
   "metadata": {},
   "source": [
    "The **goto** statement allows to make an absolute jump to another point in the program. **But not recommended**.\n",
    "\n",
    "```\n",
    "    int i = 0;\n",
    "label:\n",
    "    i = i + 1;\n",
    "    std::cout << i << \", \";\n",
    "    \n",
    "    if (i < 10):\n",
    "        goto label:\n",
    "```\n",
    "\n",
    "Expected result:\n",
    "`1, 2, 3, 4, 5, 6, 7, 8, 9, 10, `"
   ]
  },
  {
   "cell_type": "markdown",
   "metadata": {},
   "source": [
    "## 2. Handling input/output in assignment\n",
    "\n",
    "Inputs and outputs are very important for assignments. \n",
    "\n",
    "Keep in mind that if you simply miss the space or order, you may be submitted with the wrong answer."
   ]
  },
  {
   "cell_type": "markdown",
   "metadata": {},
   "source": [
    "### Assignment example\n",
    "\n",
    "Write a program that prints a multiplication table that fits the output format below when a natural number input $N$ ($1<N<=9$) is given.\n",
    "\n",
    "**example**\n",
    "\n",
    "- INPUT:\n",
    "```\n",
    "N: 3\n",
    "```\n",
    "\n",
    "\n",
    "- OUTPUT:\n",
    "```\n",
    "1x3=1\n",
    "2x3=6\n",
    "3x3=9\n",
    "4x3=12\n",
    "5x3=15\n",
    "6x3=18\n",
    "7x3=21\n",
    "8x3=24\n",
    "9x3=27\n",
    "```"
   ]
  },
  {
   "cell_type": "code",
   "execution_count": null,
   "metadata": {},
   "outputs": [],
   "source": [
    "// file: assignment-example.cc\n",
    "#include <iostream>\n",
    "\n",
    "int main() {\n",
    "    int N;\n",
    "    std::cin << N;\n",
    "    \n",
    "    for (int i = 1; i < 10; i++) {\n",
    "        std::cout << i << \"x\" << N << \"=\" << i * N << std::endl;\n",
    "    }\n",
    "    return 0;\n",
    "}"
   ]
  },
  {
   "cell_type": "markdown",
   "metadata": {},
   "source": [
    "*reference*\n",
    "\n",
    "- http://www.cplusplus.com/"
   ]
  },
  {
   "cell_type": "markdown",
   "metadata": {},
   "source": [
    "**Notice**\n",
    "\n",
    "1. Week-2 assignment will be announce in Thursday (Sep 10, 2020)\n",
    "2. The code we practiced today is not an assignment, it is a process necessary to solve the assignment.\n",
    "3. In order to facilitate non-face-to-face classes, questions are frequently asked through chat rooms. (https://open.kakao.com/o/glEhaRtc, or mailto: maytryark@gmail.com)"
   ]
  },
  {
   "cell_type": "code",
   "execution_count": null,
   "metadata": {},
   "outputs": [],
   "source": []
  }
 ],
 "metadata": {
  "kernelspec": {
   "display_name": "C++17",
   "language": "C++17",
   "name": "xcpp17"
  },
  "language_info": {
   "codemirror_mode": "text/x-c++src",
   "file_extension": ".cpp",
   "mimetype": "text/x-c++src",
   "name": "c++",
   "version": "-std=c++17"
  }
 },
 "nbformat": 4,
 "nbformat_minor": 4
}
