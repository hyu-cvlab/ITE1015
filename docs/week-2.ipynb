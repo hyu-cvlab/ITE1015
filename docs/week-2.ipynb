{
 "cells": [
  {
   "cell_type": "markdown",
   "metadata": {},
   "source": [
    "# Create Software Programming Assignment (week-2)\n",
    "\n",
    "Every assignment will be announced on **Thursday** and should be sumitted by next **Tuesday**.\n",
    "\n",
    "In this week **Handed out will be Sep 10, 2019, Due Sep 15, 2020**"
   ]
  },
  {
   "cell_type": "markdown",
   "metadata": {},
   "source": [
    "### Submit your assignment only through the [hconnect GitLab](https://hconnect.hanyang.ac.kr)\n",
    "\n",
    "1. Your assignment should be `week-2` directory.\n",
    "2. Commit & Push to the [hconnect GitLab](https://hconnect.hanyang.ac.kr) when you done."
   ]
  },
  {
   "cell_type": "markdown",
   "metadata": {},
   "source": [
    "## 1. I/O\n",
    "\n",
    "C++ uses a convenient abstraction called streams to perform input and output operations in sequential media such as the screen, the keyboard or a file. A stream is an entity where a program can either insert or extract characters to/from. There is no need to know details about the media associated to the stream or any of its internal specifications. All we need to know is that streams are a source/destination of characters, and that these characters are provided/accepted sequentially (i.e., one after another).\n",
    "\n",
    "The standard library defines a handful of stream objects that can be used to access what are considered the standard sources and destinations of characters by the environment where the program runs:\n",
    "\n",
    "- `cin`: standard input stream\n",
    "- `cout`: standard output stream\n",
    "- `cerr`: standard error (output) stream\n",
    "- `clog`: standard logging (output) stream"
   ]
  },
  {
   "cell_type": "code",
   "execution_count": null,
   "metadata": {},
   "outputs": [],
   "source": [
    "// file: io.cc\n",
    "#include <iostream>\n",
    "\n",
    "int main() {\n",
    "    // print \"Hello World!\" through output stream (std::cout).\n",
    "    // The std::endl manipulator can be used to break lines ('\\n').\n",
    "    std::cout << \"Hello World!\" << std::endl;\n",
    "    \n",
    "    // cout can print integer, string and other various types.\n",
    "    std::cout << 3 << \", \" << 2 << std::endl;\n",
    "    \n",
    "    // x is int type variable\n",
    "    // Unlike Python, you need to declare a type of variable\n",
    "    // Also cout can print value of variable\n",
    "    int x = 3;\n",
    "    std::cout << x << std::endl;\n",
    "    \n",
    "    // You can use `cin` to store the input value in a variable\n",
    "    std::cin >> x;\n",
    "    \n",
    "    // And just printout inputed value that store in variable x\n",
    "    std::cout << x << std::endl;\n",
    "    \n",
    "    // std::string is string type contains some characters.\n",
    "    std::string str;\n",
    "    \n",
    "    // save inputed string to variable str\n",
    "    std::cin >> str;\n",
    "    \n",
    "    std::cout << str << std::endl;\n",
    "    \n",
    "    return 0;\n",
    "}"
   ]
  },
  {
   "cell_type": "markdown",
   "metadata": {},
   "source": [
    "## 2. Pointer\n",
    "\n",
    "For a C++ program, the memory of a computer is like a array of memory cells, each one byte in size, and each with a unique address. These single-byte memory cells are ordered in a way that allows data representations larger than one byte to occupy memory cells that have consecutive addresses.\n",
    "\n",
    "This way, each cell can be easily located in the memory by means of its unique address. For example, the memory cell with the address 1776 always follows immediately after the cell with address 1775 and precedes the one with 1777, and is exactly one thousand cells after 776 and exactly one thousand cells before 2776.\n",
    "\n",
    "When a variable is declared, the memory needed to store its value is assigned a specific location in memory (its memory address). Generally, C++ programs do not actively decide the exact memory addresses where its variables are stored. Fortunately, that task is left to the environment where the program is run - generally, an operating system that decides the particular memory locations on runtime. However, it may be useful for a program to be able to obtain the address of a variable during runtime in order to access data cells that are at a certain position relative to it."
   ]
  },
  {
   "cell_type": "code",
   "execution_count": null,
   "metadata": {},
   "outputs": [],
   "source": [
    "// file: pointer.cc\n",
    "#include <iostream>\n",
    "\n",
    "int main()\n",
    "{\n",
    "    int var = 129;\n",
    "    // int* is type for point of int\n",
    "    // So, A* is type for point of A\n",
    "    int *var_address = &var;\n",
    "    int vluae_of_var_address = *var_address;\n",
    "\n",
    "    std::cout << \"Value of var: \" << var << std::endl;\n",
    "    std::cout << \"Address of var: \" << var_address << std::endl;\n",
    "    std::cout << \"Value of Address of var: \" << vluae_of_var_address << std::endl;\n",
    "\n",
    "    // pointer is just number of address\n",
    "    int ary[3];\n",
    "    ary[0] = 6;\n",
    "    ary[1] = 23;\n",
    "    ary[2] = 42;\n",
    "\n",
    "    int *address_of_ary_0 = &ary[0];\n",
    "    int *address_of_ary_1 = &ary[1];\n",
    "    int *address_of_ary_2 = &ary[2];\n",
    "\n",
    "    std::cout << \"Address of ary[0]: \" << address_of_ary_0 << std::endl;\n",
    "    std::cout << \"Address of ary[1]: \" << address_of_ary_1 << std::endl;\n",
    "    std::cout << \"Address of ary[2]: \" << address_of_ary_2 << std::endl;\n",
    "\n",
    "    // The difference between the address value of the ary is 1\n",
    "    std::cout << \"Address of ary[2] - ary[1]: \" << address_of_ary_2 - address_of_ary_1 << std::endl;\n",
    "    std::cout << \"Address of ary[1] - ary[0]: \" << address_of_ary_1 - address_of_ary_0 << std::endl;\n",
    "\n",
    "    // Therefore, adding 1 to the address value of ary[0] gives the value of ary[1], and adding 2 gives the value of ary[2].\n",
    "    std::cout << \"The value of (address of ary[0]): \" << *address_of_ary_0 << std::endl;\n",
    "    std::cout << \"The value of (address of ary[0] + 1): \" << *(address_of_ary_0+1) << std::endl;\n",
    "    std::cout << \"The value of (address of ary[0] + 2): \" << *(address_of_ary_0+2) << std::endl;\n",
    "\n",
    "    return 0;\n",
    "}"
   ]
  },
  {
   "cell_type": "markdown",
   "metadata": {},
   "source": [
    "## 3. Structure\n",
    "\n",
    "A data structure is a group of data elements grouped together under one name. These data elements, known as members, can have different types and different lengths. Data structures can be declared in C++ using the following syntax:\n",
    "\n",
    "```\n",
    "struct type_name {\n",
    "    int member_int;\n",
    "    std::string member_string;\n",
    "    .\n",
    "    .\n",
    "} object_names;\n",
    "```"
   ]
  },
  {
   "cell_type": "code",
   "execution_count": null,
   "metadata": {},
   "outputs": [],
   "source": [
    "// file: structure.cc\n",
    "#include <iostream>\n",
    "\n",
    "// Conventionally, _t is appended to indicate that it is a type.\n",
    "struct student_t {\n",
    "    int id;\n",
    "    std::string name;\n",
    "} student_a, student_b;\n",
    "\n",
    "int main() {\n",
    "    // access to member using '.'\n",
    "    student_a.id = 2019170229;\n",
    "    student_a.name = \"jiun\";\n",
    "    \n",
    "    student_b.id = 1;\n",
    "    student_b.name = \"b\";\n",
    "    \n",
    "    std::cout << \"Student A, id: \" << student_a.id << std::endl;\n",
    "    std::cout << \"Student A, name: \" << student_a.name << std::endl;\n",
    "    \n",
    "    std::cout << \"Student B, id: \" << student_b.id << std::endl;\n",
    "    std::cout << \"Student B, name: \" << student_b.name << std::endl;\n",
    "    \n",
    "    return 0;\n",
    "}"
   ]
  },
  {
   "cell_type": "markdown",
   "metadata": {},
   "source": [
    "*reference*\n",
    "\n",
    "- http://www.cplusplus.com/"
   ]
  },
  {
   "cell_type": "code",
   "execution_count": null,
   "metadata": {},
   "outputs": [],
   "source": []
  }
 ],
 "metadata": {
  "kernelspec": {
   "display_name": "C++17",
   "language": "C++17",
   "name": "xcpp17"
  },
  "language_info": {
   "codemirror_mode": "text/x-c++src",
   "file_extension": ".cpp",
   "mimetype": "text/x-c++src",
   "name": "c++",
   "version": "-std=c++17"
  }
 },
 "nbformat": 4,
 "nbformat_minor": 4
}
