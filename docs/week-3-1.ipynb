{
 "cells": [
  {
   "cell_type": "markdown",
   "metadata": {},
   "source": [
    "# Creative Software Programming Practice (week-3-1)\n",
    "\n",
    "Every assignment will be announced on **Thursday** and should be sumitted by next **Tuesday**.\n",
    "\n",
    "We have practice classes on Wednesdays and Thursdays. \n",
    "The contents of the practice class are different from the assignments and aim to be completed on the same day.\n",
    "\n",
    "Assignments will be publish on Thursday and must be submitted by the next Tuesday.\n",
    "\n",
    "In this week **Handed out will be Sep 17, 2020, Due Sep 22, 2020**"
   ]
  },
  {
   "cell_type": "markdown",
   "metadata": {},
   "source": [
    "## Topics\n",
    "\n",
    "1. C string and std::string\n",
    "2. Namespace\n",
    "3. Function overloading"
   ]
  },
  {
   "cell_type": "markdown",
   "metadata": {},
   "source": [
    "## 1. Cstring and std::string\n",
    "\n",
    "Strings are defined as an array of characters. The difference between a character array and a string is the string is terminated with a special character ‘\\0’.\n",
    "\n",
    "```\n",
    "char str[] = \"String\";\n",
    "\n",
    "str[0] = 'S';\n",
    "str[1] = 't';\n",
    "str[2] = 'r';\n",
    "str[3] = 'i';\n",
    "str[4] = 'n';\n",
    "str[5] = 'g';\n",
    "str[6] = '\\0'; // this is end of string\n",
    "```\n",
    "\n",
    "Also you can use below syntax for initializing a string.\n",
    "\n",
    "```\n",
    "char str[] = \"String\";\n",
    "char str[32] = \"String\";\n",
    "char str[] = {'S', 't', 'r', 'i', 'n', 'g', '\\0' };\n",
    "const char* str = \"String\";\n",
    "```\n",
    "\n",
    "Since'\\0' is a special character that indicates the end of a string, c treats it as the end of a character when it encounters'\\0'. Therefore, if you put'\\0' in the middle of a string, it is recognized as a string only until then.\n",
    "\n",
    "```\n",
    "char str[] = \"String\";\n",
    "str[3] = '\\0';\n",
    "std::cout << str << std::endl; // will print only \"Str\"\n",
    "std::cout << &(str[4]) << std::endl; // will print remain parts \"ng\"\n",
    "std::cout << (str+4) << std::endl; // it's same as above\n",
    "```\n",
    "\n",
    "For a more seamless use of strings, C++ has **std::string**.\n",
    "It has many features such as size, length, clear, ..."
   ]
  },
  {
   "cell_type": "code",
   "execution_count": 1,
   "metadata": {},
   "outputs": [],
   "source": [
    "#include <iostream>\n",
    "\n",
    "int main() {\n",
    "    char str1[] = \"String\";\n",
    "    char str2[32] = \"String\";\n",
    "    char str3[] = {'S', 't', 'r', 'i', 'n', 'g', '\\0'};\n",
    "\n",
    "    std::cout << str1 << std::endl;\n",
    "    std::cout << str2 << std::endl;\n",
    "    std::cout << str3 << std::endl;\n",
    "\n",
    "    char str4[] = \"String\";\n",
    "    str4[3] = '\\0';\n",
    "    std::cout << str4 << std::endl; // will print only \"Str\"\n",
    "    std::cout << &(str4[4]) << std::endl; // will print remain parts \"ng\"\n",
    "    std::cout << (str4+4) << std::endl; // it's same as above\n",
    "\n",
    "    std::string str5 = \"String\";\n",
    "    std::cout << str5 << std::endl;\n",
    "    std::cout << \"length of str5: \" << str5.size() << std::endl; // std::string has many features.\n",
    "    std::cout << str5.c_str() << std::endl; // return char pointer for Backward Compatibility\n",
    "}"
   ]
  },
  {
   "cell_type": "markdown",
   "metadata": {},
   "source": [
    "## 2. Namespace\n",
    "\n",
    "Namespaces provide a method for preventing name conflicts in large projects.\n",
    "\n",
    "Symbols declared inside a namespace block are placed in a named scope that prevents them from being mistaken for identically-named symbols in other scopes.\n",
    "\n",
    "Multiple namespace blocks with the same name are allowed. All declarations within those blocks are declared in the named scope."
   ]
  },
  {
   "cell_type": "code",
   "execution_count": null,
   "metadata": {},
   "outputs": [],
   "source": [
    "// file: namespace.cc\n",
    "#include <iostream>\n",
    "\n",
    "namespace a {\n",
    "    void function() {\n",
    "        std::cout << \"function in namespace a\" << std::endl;\n",
    "    }\n",
    "}\n",
    "\n",
    "namespace b {\n",
    "    namespace c {\n",
    "        void function() { \n",
    "            std::cout << \"function in namespace c in namespace b\" << std::endl;\n",
    "        }\n",
    "    }\n",
    "    void function() {\n",
    "        std::cout << \"function in namespace b\" << std::endl;\n",
    "    }\n",
    "}\n",
    "\n",
    "using namespace a;\n",
    "// using namespace b; raise overloaded error\n",
    "\n",
    "int main() {\n",
    "    a::function();\n",
    "    b::function();\n",
    "    b::c::function();\n",
    "    function();\n",
    "\n",
    "    return 0;\n",
    "}"
   ]
  },
  {
   "cell_type": "markdown",
   "metadata": {},
   "source": [
    "## 3. Function overloading\n",
    "\n",
    "In C++, two or more different functions can have the same name if their parameters are different; either because they have a different number of parameters, or because any of their parameters are of a different type. For example:\n",
    "\n",
    "```\n",
    "void function (int a) {\n",
    "}\n",
    "void function (int a, int b) {\n",
    "}\n",
    "void function (double a) {\n",
    "}\n",
    "```\n",
    "\n",
    "In this example, there are three functions called `function`, but one of them has one parameter of type int, while the other has them of type double or two of type int. The compiler knows which one to call in each case by examining the types passed as arguments when the function is called. If it is called with two int arguments, it calls to the function that has two int parameters."
   ]
  },
  {
   "cell_type": "code",
   "execution_count": null,
   "metadata": {},
   "outputs": [],
   "source": [
    "// file: overloading.cc\n",
    "#include <iostream>\n",
    "\n",
    "void function(int a) {\n",
    "    std::cout << \"function with int a called!\" << std::endl;\n",
    "}\n",
    "void function(int a, int b) {\n",
    "    std::cout << \"function with int a, int b called!\" << std::endl;\n",
    "}\n",
    "void function(double a) {\n",
    "    std::cout << \"function with double a called!\" << std::endl;\n",
    "}\n",
    "\n",
    "int main() {\n",
    "    function(3);\n",
    "    function(4, 5);\n",
    "    function(2.0);\n",
    "    return 0;\n",
    "}"
   ]
  },
  {
   "cell_type": "code",
   "execution_count": null,
   "metadata": {},
   "outputs": [],
   "source": []
  }
 ],
 "metadata": {
  "kernelspec": {
   "display_name": "C++17",
   "language": "C++17",
   "name": "xcpp17"
  },
  "language_info": {
   "codemirror_mode": "text/x-c++src",
   "file_extension": ".cpp",
   "mimetype": "text/x-c++src",
   "name": "c++",
   "version": "-std=c++17"
  }
 },
 "nbformat": 4,
 "nbformat_minor": 4
}
