{
 "cells": [
  {
   "cell_type": "markdown",
   "metadata": {},
   "source": [
    "# Creative Software Programming Practice (week-3-2)\n",
    "\n",
    "Every assignment will be announced on **Thursday** and should be sumitted by next **Tuesday**.\n",
    "\n",
    "We have practice classes on Wednesdays and Thursdays. \n",
    "The contents of the practice class are different from the assignments and aim to be completed on the same day.\n",
    "\n",
    "Assignments will be publish on Thursday and must be submitted by the next Tuesday.\n",
    "\n",
    "In this week **Handed out will be Sep 17, 2020, Due Sep 22, 2020**"
   ]
  },
  {
   "cell_type": "markdown",
   "metadata": {},
   "source": [
    "## Topics\n",
    "\n",
    "1. Template\n",
    "2. STL\n",
    "3. Pratice"
   ]
  },
  {
   "cell_type": "markdown",
   "metadata": {},
   "source": [
    "## 1. Template\n",
    "\n",
    "Function templates are special functions that can operate with generic types. This allows us to create a function template whose functionality can be adapted to more than one type or class without repeating the entire code for each type.\n",
    "\n",
    "In C++ this can be achieved using template parameters. A template parameter is a special kind of parameter that can be used to pass a type as argument: just like regular function parameters can be used to pass values to a function, template parameters allow to pass also types to a function. These function templates can use these parameters as if they were any other regular type.\n",
    "\n",
    "The format for declaring function templates with type parameters is:\n",
    "```\n",
    "template <typename T>\n",
    "void function (T a) {\n",
    "}\n",
    "template <class M>\n",
    "M function (int a) {\n",
    "    return (type of M);\n",
    "}\n",
    "template <typename A, typename B>\n",
    "void function (A a, B b) {\n",
    "}\n",
    "```\n",
    "\n",
    "When the compiler encounters this call to a template function, it uses the template to automatically generate a function replacing each appearance of Type variable by the type passed as the actual template parameter (int in this case) and then calls it. This process is automatically performed by the compiler and is invisible to the programmer."
   ]
  },
  {
   "cell_type": "code",
   "execution_count": null,
   "metadata": {},
   "outputs": [],
   "source": [
    "// file: template.cc\n",
    "#include <iostream>\n",
    "\n",
    "template <typename T>\n",
    "void function(T a) {\n",
    "    std::cout << a << std::endl;\n",
    "}\n",
    "\n",
    "int main() {\n",
    "\n",
    "    function<double>(97.3);\n",
    "    \n",
    "    // 97.3 is casted as 97, because function<int> accept a as int\n",
    "    function<int>(97.3);\n",
    "    \n",
    "    // 97.3 convert to 97 and 97 is 'a' in ASCII code\n",
    "    function<char>(97.3);\n",
    "\n",
    "    return 0;\n",
    "}"
   ]
  },
  {
   "cell_type": "markdown",
   "metadata": {},
   "source": [
    "## 2. STL\n",
    "\n",
    "The Standard Template Library (STL) is a set of C++ template classes to provide common programming data structures and functions such as lists, stacks, arrays, etc. It is a library of container classes, algorithms, and iterators. It is a generalized library and so, its components are parameterized. A working knowledge of template classes is a prerequisite for working with STL.\n",
    "\n",
    "STL has four components\n",
    "\n",
    "- Algorithms\n",
    "- Containers\n",
    "- Functions\n",
    "- Iterators\n",
    "\n",
    "You will probably use Containers and Iterators in class.\n",
    "\n",
    "- String\n",
    "- Vector\n",
    "- List\n",
    "- Stack\n",
    "- Queue\n",
    "...\n",
    "\n",
    "You need to reference the header before using stl.\n",
    "```\n",
    "#include <string> // std::string\n",
    "#include <vecotr> // std::vector\n",
    "...\n",
    "```\n",
    "\n",
    "A container is a holder object that stores a collection of other objects (its elements). They are implemented as class templates, which allows great flexibility in the types supported as elements.\n",
    "\n",
    "The container manages the storage space for its elements and provides member functions to access them, either directly or through iterators (reference objects with similar properties to pointers).\n",
    "\n",
    "Containers replicate structures very commonly used in programming: dynamic arrays (vector), queues (queue), stacks (stack), heaps (priority_queue), linked lists (list), trees (set), associative arrays (map)...\n",
    "\n",
    "Various Containers are included in STL, and you can create your own container if you wish."
   ]
  },
  {
   "cell_type": "code",
   "execution_count": null,
   "metadata": {},
   "outputs": [],
   "source": [
    "// file: stl.cc\n",
    "#include <iostream>\n",
    "#include <string>\n",
    "#include <list>\n",
    "#include <vector>\n",
    "\n",
    "int main() {\n",
    "    // string is a container which contains characters\n",
    "    std::string str = \"123\";\n",
    "\n",
    "    // list is a container which each node is connected to other\n",
    "    // The STL container receives as a template parameter what to contain.\n",
    "    // In this time, we create list contains int type.\n",
    "    std::list<int> list;\n",
    "\n",
    "    list.push_back(3);\n",
    "    list.push_back(2);\n",
    "    list.push_back(1);\n",
    "    // now list has 3,2,1 \n",
    "\n",
    "    // you can iter over container using for-each loop\n",
    "    for (int e : list) {\n",
    "        std::cout << e << \", \";\n",
    "    }\n",
    "    std::cout << std::endl;\n",
    "\n",
    "    // vector is a container which like a dynamic array\n",
    "    std::vector<int> vec;\n",
    "    vec.push_back(1);\n",
    "    vec.push_back(2);\n",
    "    vec.push_back(3);\n",
    "\n",
    "    // Since vectors are like arrays, they can be accessed at random.\n",
    "    for (int i = 0; i < 3; i++) {\n",
    "        std::cout << vec[i] << \", \";\n",
    "    }\n",
    "\n",
    "    std::cout << std::endl;\n",
    "}"
   ]
  },
  {
   "cell_type": "markdown",
   "metadata": {},
   "source": [
    "## 3. Pratice\n",
    "\n",
    "Learn more about stl on the [cpp reference](http://www.cplusplus.com/reference/stl), especially the differences and features of *lists*, *vectors*, *stacks*, and *queues* that will be used frequently in the future."
   ]
  },
  {
   "cell_type": "code",
   "execution_count": null,
   "metadata": {},
   "outputs": [],
   "source": []
  }
 ],
 "metadata": {
  "kernelspec": {
   "display_name": "C++17",
   "language": "C++17",
   "name": "xcpp17"
  },
  "language_info": {
   "codemirror_mode": "text/x-c++src",
   "file_extension": ".cpp",
   "mimetype": "text/x-c++src",
   "name": "c++",
   "version": "-std=c++17"
  }
 },
 "nbformat": 4,
 "nbformat_minor": 4
}
