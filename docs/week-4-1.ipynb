{
 "cells": [
  {
   "cell_type": "markdown",
   "metadata": {},
   "source": [
    "# Creative Software Programming Practice (week-4-1)\n",
    "\n",
    "Every assignment will be announced on **Thursday** and should be sumitted by next **Tuesday**.\n",
    "\n",
    "We have practice classes on Wednesdays and Thursdays. \n",
    "The contents of the practice class are different from the assignments and aim to be completed on the same day.\n",
    "\n",
    "Assignments will be publish on Thursday and must be submitted by the next Tuesday.\n",
    "\n",
    "In this week **Handed out will be Sep 24, 2020, Due Sep 29, 2020**"
   ]
  },
  {
   "cell_type": "markdown",
   "metadata": {},
   "source": [
    "## Topics\n",
    "\n",
    "1. Pointer and Const Review\n",
    "2. C++ operators"
   ]
  },
  {
   "cell_type": "markdown",
   "metadata": {},
   "source": [
    "## 1. Pointer and Const Review\n",
    "\n",
    "**Constants** are expressions with a fixed value such as `const double PI = 3.14;`.\n",
    "**Literals** are the most obvious kind of constants. They are used to express particular values within the source code of a program. We have already used some in previous chapters to give specific values to variables or to express messages we wanted our programs to print out, for example, when we wrote `a = 3;` In this case *3* is literal constant.\n",
    "\n",
    "You cannot change the value of a variable through the pointer.\n",
    "```\n",
    "const int* ptr = &num;\n",
    "*ptr = 30; // this may raise the compile error!\n",
    "```\n",
    "However, it does not make the variable itself a constant\n",
    "```\n",
    "num = 30;\n",
    "```\n",
    "\n",
    "You can make const pointer which cannot change value of pointer.\n",
    "```\n",
    "int num = 30;\n",
    "const int* ptr1 = &num;\n",
    "int* const ptr2 = &num;\n",
    "\n",
    "*ptr2 = 40; // you can change the value of variable through the pointer\n",
    "*ptr1 = 40; // Raise error! you can not change the value of variable through the const pointer\n",
    "ptr2 = &other_variable; // Raise error! raise compile error! \n",
    "```"
   ]
  },
  {
   "cell_type": "code",
   "execution_count": null,
   "metadata": {},
   "outputs": [],
   "source": [
    "#include <iostream>\n",
    "\n",
    "int main() {\n",
    "    int num = 30;\n",
    "    int *ptr = &num;\n",
    "\n",
    "    std::cout << \"The value of num: \" << num << std::endl;\n",
    "    std::cout << \"The address of num: \" << &num << std::endl;\n",
    "    std::cout << \"The value of ptr: \" << ptr << std::endl;\n",
    "    std::cout << \"The address of ptr: \" << &ptr << std::endl;\n",
    "    std::cout << \"The value of (pointer ptr): \" << *ptr << std::endl;\n",
    "\n",
    "    const int* const_ptr = &num;\n",
    "    int* const ptr_const = &num;\n",
    "\n",
    "    std::cout << \"The pointer value of const_ptr: \" << *const_ptr << std::endl;\n",
    "    std::cout << \"The value of const_ptr: \" << const_ptr << std::endl;\n",
    "\n",
    "    std::cout << \"The pointer value of ptr_const: \" << *ptr_const << std::endl;\n",
    "    std::cout << \"The value of ptr_const: \" << ptr_const << std::endl;\n",
    "\n",
    "    // Below lines raise error\n",
    "    *const_ptr = 15;\n",
    "    ptr_const = &const_ptr;\n",
    "\n",
    "    return 0;\n",
    "}"
   ]
  },
  {
   "cell_type": "markdown",
   "metadata": {},
   "source": [
    "## 2. C++ Operators\n",
    "\n",
    "Once introduced to variables and constants, we can begin to operate with them by using operators. What follows is a complete list of operators. At this point, it is likely not necessary to know all of them, but they are all listed here to also serve as reference.\n",
    "\n",
    "There are mayn operators in C++.\n",
    "\n",
    "- Increment(decrement): ++a, a++, --a, a--\n",
    "- Arithmetic: +, -, *, /, %\n",
    "- Relational: ==, !=, <, <=, >, >=\n",
    "- Bitwise: a & b, a | b, a ^ b, ~a, a >> b, a << b\n",
    "- Logical: a && b, a || b, !a\n",
    "- ...\n",
    "\n",
    "![bitwise operation](https://he-s3.s3.amazonaws.com/media/uploads/cb985c2.png)"
   ]
  },
  {
   "cell_type": "code",
   "execution_count": null,
   "metadata": {},
   "outputs": [],
   "source": [
    "#include <iostream>\n",
    "\n",
    "int main() {\n",
    "    int a = 3;\n",
    "    std::cout << \"The value of a: \" << a << std::endl;\n",
    "    std::cout << \"The value of a: \" << a++ << std::endl;\n",
    "    std::cout << \"The value of a: \" << a << std::endl;\n",
    "    std::cout << \"The value of a: \" << ++a << std::endl;\n",
    "\n",
    "    bool cond = (a == 3);\n",
    "    std::cout << \"a == 3 is \" << (cond ? \"True\" : \"False\") << std::endl;\n",
    "\n",
    "    int x = 3; // 11\n",
    "    int y = 2; // 10\n",
    "\n",
    "    std::cout << \"11 & 10 is \" << (x & y) << std::endl;\n",
    "    std::cout << \"11 | 10 is \" << (x | y) << std::endl;\n",
    "    std::cout << \"11 ^ 10 is \" << (x ^ y) << std::endl;\n",
    "\n",
    "    bool t = true;\n",
    "    bool f = false;\n",
    "\n",
    "    if (t && f) {\n",
    "        std::cout << \"t && f is true\" << std::endl;\n",
    "    }\n",
    "    if (t || f) {\n",
    "        std::cout << \"t || f is true\" << std::endl;\n",
    "    }\n",
    "\n",
    "    return 0;\n",
    "}"
   ]
  },
  {
   "cell_type": "markdown",
   "metadata": {},
   "source": [
    "## Pratice\n",
    "\n",
    "Make swap function which swap the input pointer value\n",
    "\n",
    "So, The code below should run."
   ]
  },
  {
   "cell_type": "code",
   "execution_count": null,
   "metadata": {},
   "outputs": [],
   "source": [
    "#include <iostream>\n",
    "#include <cassert>\n",
    "\n",
    "template <typename T>\n",
    "void swap(T* first, T* second) {\n",
    "    // TODO\n",
    "    // fill the code here\n",
    "}\n",
    "\n",
    "int main() {\n",
    "    int a = 3, b = 2;\n",
    "\n",
    "    swap(&a, &b);\n",
    "\n",
    "    // after swap a and b, a must be 2 and b must be 3.\n",
    "    assert(a == 2);\n",
    "    assert(b == 3);\n",
    "    \n",
    "    return 0;\n",
    "}"
   ]
  },
  {
   "cell_type": "code",
   "execution_count": null,
   "metadata": {},
   "outputs": [],
   "source": []
  }
 ],
 "metadata": {
  "kernelspec": {
   "display_name": "C++17",
   "language": "C++17",
   "name": "xcpp17"
  },
  "language_info": {
   "codemirror_mode": "text/x-c++src",
   "file_extension": ".cpp",
   "mimetype": "text/x-c++src",
   "name": "c++",
   "version": "-std=c++17"
  }
 },
 "nbformat": 4,
 "nbformat_minor": 4
}
