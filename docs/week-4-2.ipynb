{
 "cells": [
  {
   "cell_type": "markdown",
   "metadata": {},
   "source": [
    "# Creative Software Programming Practice (week-4-2)\n",
    "\n",
    "Every assignment will be announced on **Thursday** and should be sumitted by next **Tuesday**.\n",
    "\n",
    "We have practice classes on Wednesdays and Thursdays. \n",
    "The contents of the practice class are different from the assignments and aim to be completed on the same day.\n",
    "\n",
    "Assignments will be publish on Thursday and must be submitted by the next Tuesday.\n",
    "\n",
    "In this week **Handed out will be Sep 24, 2020, Due Sep 29, 2020**"
   ]
  },
  {
   "cell_type": "markdown",
   "metadata": {},
   "source": [
    "## Topics\n",
    "\n",
    "1. Dynamic memory allocation\n",
    "2. Reference"
   ]
  },
  {
   "cell_type": "markdown",
   "metadata": {},
   "source": [
    "## 1. Dynamic memory allocation\n",
    "\n",
    "When you run a C/C++ program, OS allocates memory space for the program like below picture:\n",
    "\n",
    "![memory layout](https://miro.medium.com/max/1103/1*953YGfYnTKUgAQF54fAWWg.gif)\n",
    "\n",
    "- Stack: local variables, function parameters, return address\n",
    "- Heap: for dynamic memory allocation\n",
    "- bss, data: global variables, static variables\n",
    "- text: compiled binary code\n",
    "\n",
    "In traditional C, you can allocate new memory with `malloc` and release with `free` like below.\n",
    "\n",
    "```\n",
    "    T* var = (T*)malloc(sizeof(T) * n);\n",
    "    free(var);\n",
    "```\n",
    "\n",
    "In C++ support `new` / `delete` for memory allocation.\n",
    "```\n",
    "    T* var = new T[n];\n",
    "    delete[] T;\n",
    "```\n",
    "\n",
    "`malloc` and `new` allocates $N$ ($N \\times sizeof(T)$ for `new`) bytes of memory block and return the pointer of the block. `free` and `delete` deallocates the allocated memory block."
   ]
  },
  {
   "cell_type": "code",
   "execution_count": null,
   "metadata": {},
   "outputs": [],
   "source": [
    "#include <iostream>\n",
    "\n",
    "void function(int* array) {\n",
    "    array[0] = 34;\n",
    "    std::cout << \"The address of array: \" << array << std::endl;\n",
    "    std::cout << \"The value of array[0]: \" << *array << std::endl;\n",
    "}\n",
    "\n",
    "int main() {\n",
    "    int size = 5;\n",
    "    int* array = new int[size];\n",
    "\n",
    "    std::cout << \"The address of array: \" << array << std::endl;\n",
    "    std::cout << \"The value of array[0]: \" << *array << std::endl;\n",
    "\n",
    "    function(array);\n",
    "\n",
    "    std::cout << \"The address of array: \" << array << std::endl;\n",
    "    std::cout << \"The value of array[0]: \" << *array << std::endl;\n",
    "\n",
    "    delete[] array;\n",
    "\n",
    "    return 0;\n",
    "}"
   ]
  },
  {
   "cell_type": "markdown",
   "metadata": {},
   "source": [
    "## 2. Reference\n",
    "\n",
    "The pointer is not a reference, and just pass the integer value(memory address) and handle it a special value. But in C++, there is a real reference and you can pass it to function or anywhere.\n",
    "```\n",
    "int a = 3;\n",
    "int& b = a;\n",
    "b = 2;\n",
    "assert(a==3);\n",
    "```"
   ]
  },
  {
   "cell_type": "code",
   "execution_count": null,
   "metadata": {},
   "outputs": [],
   "source": [
    "#include <iostream>\n",
    "\n",
    "void func_ref(int& a) {\n",
    "    a += 3;\n",
    "}\n",
    "void func_val(int a) {\n",
    "    a += 3;\n",
    "}\n",
    "void func_ptr(int* a) {\n",
    "    *a += 3;\n",
    "}\n",
    "\n",
    "int main() {\n",
    "    int a;\n",
    "\n",
    "    std::cout << \"Function val\" << std::endl;\n",
    "    a = 3;\n",
    "    std::cout << \"The value of a: \" << a << std::endl;\n",
    "    func_val(a);\n",
    "    std::cout << \"The value of a: \" << a << std::endl;\n",
    "\n",
    "    std::cout << \"Function ref\" << std::endl;\n",
    "    a = 3;\n",
    "    std::cout << \"The value of a: \" << a << std::endl;\n",
    "    func_ref(a);\n",
    "    std::cout << \"The value of a: \" << a << std::endl;\n",
    "\n",
    "    std::cout << \"Function ptr\" << std::endl;\n",
    "    a = 3;\n",
    "    std::cout << \"The value of a: \" << a << std::endl;\n",
    "    func_ptr(&a);\n",
    "    std::cout << \"The value of a: \" << a << std::endl;\n",
    "\n",
    "    return 0;\n",
    "}"
   ]
  },
  {
   "cell_type": "markdown",
   "metadata": {},
   "source": [
    "## 3. Pratice\n",
    "\n",
    "Implement memory reallocation function. (*c already realloc function but implement your own*)\n",
    "\n",
    "It takes an $N$ memory pointer and returns it to an $M$ (where $N < M$) memory pointer. But the data it contains must be guaranteed. Follow below skeleton codes."
   ]
  },
  {
   "cell_type": "code",
   "execution_count": null,
   "metadata": {},
   "outputs": [],
   "source": [
    "#include <iostream>\n",
    "#include <cassert>\n",
    "\n",
    "template <typename T>\n",
    "T* realloc(T* pointer, size_t org_size, size_t new_size) {\n",
    "    // TODO\n",
    "    // return new allocated memory\n",
    "}\n",
    "\n",
    "int main() {\n",
    "    int* array = new int[32];\n",
    "\n",
    "    for (int i = 0; i < 32; i++) {\n",
    "        array[i] = i;\n",
    "    }\n",
    "\n",
    "    array = realloc(array, 32, 64);\n",
    "\n",
    "    // data guarantee\n",
    "    for (int i = 0; i < 32; i++) {\n",
    "        assert(array[i] == i);\n",
    "    }\n",
    "    // also you can assign re-allocated area\n",
    "    for (int i = 0; i < 32; i++) {\n",
    "        array[32+i] = i;\n",
    "    }\n",
    "\n",
    "    return 0;\n",
    "}"
   ]
  },
  {
   "cell_type": "code",
   "execution_count": null,
   "metadata": {},
   "outputs": [],
   "source": []
  }
 ],
 "metadata": {
  "kernelspec": {
   "display_name": "C++17",
   "language": "C++17",
   "name": "xcpp17"
  },
  "language_info": {
   "codemirror_mode": "text/x-c++src",
   "file_extension": ".cpp",
   "mimetype": "text/x-c++src",
   "name": "c++",
   "version": "-std=c++17"
  }
 },
 "nbformat": 4,
 "nbformat_minor": 4
}
