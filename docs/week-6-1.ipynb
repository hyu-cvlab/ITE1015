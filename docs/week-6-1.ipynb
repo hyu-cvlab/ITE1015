{
 "cells": [
  {
   "cell_type": "markdown",
   "metadata": {},
   "source": [
    "# Creative Software Programming Practice (week-5-1)\n",
    "\n",
    "Every assignment will be announced on **Thursday** and should be sumitted by next **Tuesday**.\n",
    "\n",
    "We have practice classes on Wednesdays and Thursdays. \n",
    "The contents of the practice class are different from the assignments and aim to be completed on the same day."
   ]
  },
  {
   "cell_type": "markdown",
   "metadata": {},
   "source": [
    "## Topics\n",
    "\n",
    "1. Compilation and Linkage\n",
    "2. Command-line Arguments\n",
    "3. CMake"
   ]
  },
  {
   "cell_type": "markdown",
   "metadata": {},
   "source": [
    "## 1. Compilation and Linkage\n",
    "\n",
    "C++ programs are converted into executable files through the following process.\n",
    "\n",
    "1. Source code file (`*.cc`, `*.c`, `*.cpp`)\n",
    "2. Assembler file (`*.s`)\n",
    "3. Object code file (`*.o`)\n",
    "4. Executable file\n",
    "\n",
    "![compiler build stage](./assets/compiler.png)\n",
    "\n",
    "When you write a c++ program, the next step is to compile the program before running it. The compilation is the process which convert the program written in human readable language like C, C++ etc into a machine code, directly understood by the Central Processing Unit. There are many stages involved in creating a executable file from the source file. The stages include Preprocessing, Compiling and Linking in C++. This means that even if the program gets compiled, it may result in not running as errors may arise during the linking phase.\n",
    "\n",
    "These days compilers are run from IDE (Integrated Development Environment) such as CLion, Visual Studio that contains building and analysis tools. You just have to click the menu to compile the program and then execute it. But actually the whole process occurs in different phases. That is where compiling and linking in c++ comes."
   ]
  },
  {
   "cell_type": "code",
   "execution_count": null,
   "metadata": {},
   "outputs": [],
   "source": [
    "// point.h\n",
    "#ifndef __POINT_H__\n",
    "#define __POINT_H__\n",
    "\n",
    "typedef struct {\n",
    "    double x;\n",
    "    double y;\n",
    "} Point;\n",
    "\n",
    "#endif"
   ]
  },
  {
   "cell_type": "code",
   "execution_count": null,
   "metadata": {},
   "outputs": [],
   "source": [
    "// utility.h\n",
    "#ifndef __UTILITY_H__\n",
    "#define __UTILITY_H__\n",
    "\n",
    "#include \"point.h\"\n",
    "double distance(const Point& p1, const Point& p2);\n",
    "\n",
    "#endif"
   ]
  },
  {
   "cell_type": "code",
   "execution_count": null,
   "metadata": {},
   "outputs": [],
   "source": [
    "// utility.cc\n",
    "#include <cmath>\n",
    "#include \"utility.h\"\n",
    "\n",
    "double distance(const Point& p1, const Point& p2) {\n",
    "    return sqrt(pow(p2.x - p1.x, 2) + pow(p2.y - p1.y, 2));\n",
    "}"
   ]
  },
  {
   "cell_type": "code",
   "execution_count": null,
   "metadata": {},
   "outputs": [],
   "source": [
    "// main.cc\n",
    "#include <iostream>\n",
    "#include \"point.h\"\n",
    "#include \"utility.h\"\n",
    "\n",
    "// compiler just replace inline function (not call!)\n",
    "inline void move(Point& pt, int x, int y) {\n",
    "    pt.x += x;\n",
    "    pt.y += y;\n",
    "}\n",
    "\n",
    "int main() {\n",
    "    Point p1{0, 0};\n",
    "    Point p2{3, 5};\n",
    "    \n",
    "    std::cout << \"Distance: \" << distance(p1, p2) << std::endl;\n",
    "    \n",
    "    move(p1, 0, 3);\n",
    "    move(p2, -3, -2);\n",
    "    \n",
    "    std::cout << \"Distance: \" << distance(p1, p2) << std::endl;\n",
    "    \n",
    "    return 0;\n",
    "}"
   ]
  },
  {
   "cell_type": "markdown",
   "metadata": {},
   "source": [
    "## 2. Command-line arguments\n",
    "\n",
    "C/C++ main function may takes additional input parameters.\n",
    "\n",
    "The standard accepts two forms of main (*See the ISO C++ standard 3.6.1 or the ISO C standard 5.1.2.2.1, require int return*):\n",
    "```\n",
    "int main() {/* ... */}\n",
    "int main(int argc, char* argv[]) {/* ... */}\n",
    "```\n",
    "\n",
    "**Not allow `void main() {}`**\n"
   ]
  },
  {
   "cell_type": "code",
   "execution_count": null,
   "metadata": {},
   "outputs": [],
   "source": [
    "// argument.cc\n",
    "#include <iostream>\n",
    "\n",
    "int main(int argc, char* argv[]) {\n",
    "    for (int i = 0; i < argc; i++) {\n",
    "        std::cout << \"Argument(\" << i << \"): \" << argv[i] << std::endl;\n",
    "    }\n",
    "    return 0;\n",
    "}"
   ]
  },
  {
   "cell_type": "markdown",
   "metadata": {},
   "source": [
    "```\n",
    "$ ./argument this is argument 1 2 345\n",
    "Argument(0): ./argument\n",
    "Argument(1): this\n",
    "Argument(2): is\n",
    "Argument(3): argument\n",
    "Argument(4): 1\n",
    "Argument(5): 2\n",
    "Argument(6): 345\n",
    "```"
   ]
  },
  {
   "cell_type": "markdown",
   "metadata": {},
   "source": [
    "## 3. CMake\n",
    "\n",
    "Much easier to use with relatively simple syntax (generate Makefile)"
   ]
  },
  {
   "cell_type": "code",
   "execution_count": null,
   "metadata": {},
   "outputs": [],
   "source": [
    "//CMakeLists.txt\n",
    "add_executable( main main.cc utility.cc )"
   ]
  },
  {
   "cell_type": "markdown",
   "metadata": {},
   "source": [
    "After 1. Compilation and Linkage ..."
   ]
  },
  {
   "cell_type": "markdown",
   "metadata": {},
   "source": [
    "```\n",
    "$ cmake .\n",
    "$ make\n",
    "$ ./main\n",
    "```"
   ]
  },
  {
   "cell_type": "code",
   "execution_count": null,
   "metadata": {},
   "outputs": [],
   "source": []
  }
 ],
 "metadata": {
  "kernelspec": {
   "display_name": "C++17",
   "language": "C++17",
   "name": "xcpp17"
  },
  "language_info": {
   "codemirror_mode": "text/x-c++src",
   "file_extension": ".cpp",
   "mimetype": "text/x-c++src",
   "name": "c++",
   "version": "-std=c++17"
  }
 },
 "nbformat": 4,
 "nbformat_minor": 4
}
