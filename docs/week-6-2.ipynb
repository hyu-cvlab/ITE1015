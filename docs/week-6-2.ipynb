{
 "cells": [
  {
   "cell_type": "markdown",
   "metadata": {},
   "source": [
    "# Creative Software Programming Practice (week-6-2)\n",
    "\n",
    "Every assignment will be announced on **Thursday** and should be sumitted by next **Tuesday**.\n",
    "\n",
    "We have practice classes on Wednesdays and Thursdays. \n",
    "The contents of the practice class are different from the assignments and aim to be completed on the same day."
   ]
  },
  {
   "cell_type": "markdown",
   "metadata": {},
   "source": [
    "## Topics\n",
    "\n",
    "1. Debugging"
   ]
  },
  {
   "cell_type": "markdown",
   "metadata": {},
   "source": [
    "## 1. Debugging\n",
    "\n",
    "It is very difficult to write programs without errors. Therefore, it is very important to find out where the errors are in the program and which errors are occurring. Debugging refers to the process of finding and correcting logical errors or abnormal operations (bugs) in the system that occur during the computer program development stage.\n",
    "\n",
    "It's a very important process, so there are plenty of tips on how to approach it.\n",
    "\n",
    "\n",
    "- (MSVC, what is debugging, EN) https://docs.microsoft.com/visualstudio/debugger/what-is-debugging?view=vs-2019\n",
    "- (MSVC, what is debugging, KR) https://docs.microsoft.com/ko-kr/visualstudio/debugger/what-is-debugging?view=vs-2019\n",
    "- (MSVC, how to debug, EN) https://docs.microsoft.com/ko-kr/visualstudio/debugger/debugging-absolute-beginners?view=vs-2019\n",
    "- (MSVC, how to debug, KR) https://docs.microsoft.com/ko-kr/visualstudio/debugger/debugging-absolute-beginners?view=vs-2019\n",
    "- (VSC, debug with VSC, EN) https://code.visualstudio.com/docs/introvideos/debugging\n",
    "- (VSC, debug c++, EN) https://code.visualstudio.com/docs/cpp/cpp-debug\n",
    "- (GDB, EN) https://cs.baylor.edu/~donahoo/tools/gdb/tutorial.html\n",
    "- (GDB, GNU Project Debugger, EN) https://www.gnu.org/software/gdb\n"
   ]
  },
  {
   "cell_type": "markdown",
   "metadata": {},
   "source": [
    "Classically there is a powerful debugger called GDB, but not familiar with the environment to debug in CLI, so proceed to Visual Studio Code.\n",
    "\n",
    "- [Download](https://code.visualstudio.com/)\n"
   ]
  },
  {
   "cell_type": "markdown",
   "metadata": {},
   "source": [
    "- Usually you can press F5 to start debugging.\n",
    "- You can press F9 to set that line as a breakpoint. When debugging is in progress, it will automatically stop at that point.\n",
    "- You can add configuration such as extra arguments or build options\n",
    "- You can set CMake project settings for debugging"
   ]
  },
  {
   "cell_type": "code",
   "execution_count": null,
   "metadata": {},
   "outputs": [],
   "source": []
  }
 ],
 "metadata": {
  "kernelspec": {
   "display_name": "C++17",
   "language": "C++17",
   "name": "xcpp17"
  },
  "language_info": {
   "codemirror_mode": "text/x-c++src",
   "file_extension": ".cpp",
   "mimetype": "text/x-c++src",
   "name": "c++",
   "version": "-std=c++17"
  }
 },
 "nbformat": 4,
 "nbformat_minor": 4
}
